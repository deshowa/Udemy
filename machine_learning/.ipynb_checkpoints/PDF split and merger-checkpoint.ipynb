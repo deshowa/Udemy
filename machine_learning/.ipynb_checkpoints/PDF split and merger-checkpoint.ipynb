{
 "cells": [
  {
   "cell_type": "code",
   "execution_count": 2,
   "metadata": {},
   "outputs": [],
   "source": [
    "from PyPDF2 import PdfFileWriter, PdfFileReader\n"
   ]
  },
  {
   "cell_type": "code",
   "execution_count": 4,
   "metadata": {
    "collapsed": true
   },
   "outputs": [],
   "source": [
    "inputPDF = PdfFileReader(open(\"2018_tax_return_information.pdf\", \"rb\"))"
   ]
  },
  {
   "cell_type": "code",
   "execution_count": 9,
   "metadata": {},
   "outputs": [],
   "source": [
    "for i in range(inputPDF.numPages):\n",
    "    output = PdfFileWriter()\n",
    "    output.addPage(inputPDF.getPage(i))\n",
    "    with open(\"document-page%s.pdf\" % i, \"wb\") as outputStream:\n",
    "        output.write(outputStream)"
   ]
  },
  {
   "cell_type": "code",
   "execution_count": 6,
   "metadata": {},
   "outputs": [
    {
     "data": {
      "text/plain": [
       "38"
      ]
     },
     "execution_count": 6,
     "metadata": {},
     "output_type": "execute_result"
    }
   ],
   "source": [
    "inputPDF.numPages"
   ]
  },
  {
   "cell_type": "code",
   "execution_count": 10,
   "metadata": {},
   "outputs": [
    {
     "data": {
      "text/plain": [
       "range(0, 38)"
      ]
     },
     "execution_count": 10,
     "metadata": {},
     "output_type": "execute_result"
    }
   ],
   "source": [
    "range(inputPDF.numPages)"
   ]
  },
  {
   "cell_type": "code",
   "execution_count": 20,
   "metadata": {
    "collapsed": true
   },
   "outputs": [],
   "source": [
    "# now i need to make 4 pdfs:\n",
    "\n",
    "from PyPDF2 import PdfFileMerger\n",
    "\n",
    "# pages 0-9:\n",
    "pdfs1 = ['document-page0.pdf', 'document-page1.pdf', 'document-page2.pdf',\n",
    "         'document-page3.pdf','document-page4.pdf','document-page5.pdf',\n",
    "         'document-page6.pdf','document-page7.pdf','document-page8.pdf',\n",
    "         'document-page9.pdf']\n",
    "\n",
    "merger = PdfFileMerger()\n",
    "\n",
    "for pdf in pdfs1:\n",
    "    merger.append(open(pdf, 'rb'))\n",
    "\n",
    "with open('2017_tax_return_pages_0_to_9.pdf', 'wb') as fout:\n",
    "    merger.write(fout)\n",
    "\n",
    "# pages 10-19:\n",
    "\n",
    "pdfs2 = ['document-page10.pdf', 'document-page11.pdf', 'document-page12.pdf',\n",
    "         'document-page13.pdf','document-page14.pdf','document-page15.pdf',\n",
    "         'document-page16.pdf','document-page17.pdf','document-page18.pdf',\n",
    "         'document-page19.pdf']\n",
    "\n",
    "merger = PdfFileMerger()\n",
    "\n",
    "for pdf in pdfs2:\n",
    "    merger.append(open(pdf, 'rb'))\n",
    "\n",
    "with open('2017_tax_return_pages_10_to_19.pdf', 'wb') as fout:\n",
    "    merger.write(fout)\n",
    "\n",
    "# pages 20-29:\n",
    "\n",
    "pdfs3 = ['document-page20.pdf', 'document-page21.pdf', 'document-page22.pdf',\n",
    "         'document-page23.pdf','document-page24.pdf','document-page25.pdf',\n",
    "         'document-page26.pdf','document-page27.pdf','document-page28.pdf',\n",
    "         'document-page29.pdf']\n",
    "\n",
    "merger = PdfFileMerger()\n",
    "\n",
    "for pdf in pdfs3:\n",
    "    merger.append(open(pdf, 'rb'))\n",
    "\n",
    "with open('2017_tax_return_pages_20_to_29.pdf', 'wb') as fout:\n",
    "    merger.write(fout)\n",
    "    \n",
    "# pages 30-37:\n",
    "\n",
    "pdfs4 = ['document-page30.pdf', 'document-page31.pdf', 'document-page32.pdf',\n",
    "         'document-page33.pdf','document-page34.pdf','document-page35.pdf',\n",
    "         'document-page36.pdf','document-page37.pdf']\n",
    "\n",
    "merger = PdfFileMerger()\n",
    "\n",
    "for pdf in pdfs4:\n",
    "    merger.append(open(pdf, 'rb'))\n",
    "\n",
    "with open('2017_tax_return_pages_30_to_37.pdf', 'wb') as fout:\n",
    "    merger.write(fout)\n",
    "\n"
   ]
  },
  {
   "cell_type": "code",
   "execution_count": 28,
   "metadata": {},
   "outputs": [
    {
     "name": "stdout",
     "output_type": "stream",
     "text": [
      "['document-page0.pdf', 'document-page1.pdf', 'document-page2.pdf', 'document-page3.pdf', 'document-page4.pdf', 'document-page5.pdf', 'document-page6.pdf', 'document-page7.pdf', 'document-page8.pdf']\n"
     ]
    }
   ],
   "source": [
    "# create the list:\n",
    "\n",
    "# list 1:\n",
    "\n",
    "list_1 = []\n",
    "\n",
    "# create the file names that we want ot go through:\n",
    "for i in range(0,9):\n",
    "    list_1.append('document-page%s.pdf' % i)\n",
    "    \n",
    "print(list_1)\n",
    "\n",
    "# instantiate the merger:\n",
    "\n",
    "merger = PdfFileMerger()\n",
    "\n",
    "for pdf in list_1:\n",
    "    merger.append(open(pdf, 'rb'))\n",
    "\n",
    "with open('2017_tax_return_pages_0_to_9.pdf', 'wb') as fout:\n",
    "    merger.write(fout)\n",
    "\n"
   ]
  },
  {
   "cell_type": "code",
   "execution_count": 24,
   "metadata": {},
   "outputs": [
    {
     "name": "stdout",
     "output_type": "stream",
     "text": [
      "[0]\n",
      "document-page0.pdf\n",
      "[1]\n",
      "document-page1.pdf\n",
      "[2]\n",
      "document-page2.pdf\n",
      "[3]\n",
      "document-page3.pdf\n",
      "[4]\n",
      "document-page4.pdf\n",
      "[5]\n",
      "document-page5.pdf\n",
      "[6]\n",
      "document-page6.pdf\n",
      "[7]\n",
      "document-page7.pdf\n",
      "[8]\n",
      "document-page8.pdf\n",
      "[9]\n",
      "document-page9.pdf\n",
      "[10]\n",
      "document-page10.pdf\n",
      "[11]\n",
      "document-page11.pdf\n",
      "[12]\n",
      "document-page12.pdf\n",
      "[13]\n",
      "document-page13.pdf\n",
      "[14]\n",
      "document-page14.pdf\n",
      "[15]\n",
      "document-page15.pdf\n",
      "[16]\n",
      "document-page16.pdf\n",
      "[17]\n",
      "document-page17.pdf\n",
      "[18]\n",
      "document-page18.pdf\n",
      "[19]\n",
      "document-page19.pdf\n",
      "[20]\n",
      "document-page20.pdf\n",
      "[21]\n",
      "document-page21.pdf\n",
      "[22]\n",
      "document-page22.pdf\n",
      "[23]\n",
      "document-page23.pdf\n",
      "[24]\n",
      "document-page24.pdf\n",
      "[25]\n",
      "document-page25.pdf\n",
      "[26]\n",
      "document-page26.pdf\n",
      "[27]\n",
      "document-page27.pdf\n",
      "[28]\n",
      "document-page28.pdf\n",
      "[29]\n",
      "document-page29.pdf\n",
      "[30]\n",
      "document-page30.pdf\n",
      "[31]\n",
      "document-page31.pdf\n",
      "[32]\n",
      "document-page32.pdf\n",
      "[33]\n",
      "document-page33.pdf\n",
      "[34]\n",
      "document-page34.pdf\n",
      "[35]\n",
      "document-page35.pdf\n",
      "[36]\n",
      "document-page36.pdf\n"
     ]
    }
   ],
   "source": [
    "for i in range(0,37):\n",
    "    print([i])\n",
    "    print(\"document-page%s.pdf\" % i)"
   ]
  },
  {
   "cell_type": "code",
   "execution_count": null,
   "metadata": {
    "collapsed": true
   },
   "outputs": [],
   "source": []
  }
 ],
 "metadata": {
  "kernelspec": {
   "display_name": "Python 3",
   "language": "python",
   "name": "python3"
  },
  "language_info": {
   "codemirror_mode": {
    "name": "ipython",
    "version": 3
   },
   "file_extension": ".py",
   "mimetype": "text/x-python",
   "name": "python",
   "nbconvert_exporter": "python",
   "pygments_lexer": "ipython3",
   "version": "3.6.3"
  }
 },
 "nbformat": 4,
 "nbformat_minor": 2
}
