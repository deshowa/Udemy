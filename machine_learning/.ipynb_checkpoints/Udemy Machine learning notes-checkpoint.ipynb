{
 "cells": [
  {
   "cell_type": "code",
   "execution_count": 1,
   "metadata": {
    "collapsed": true
   },
   "outputs": [],
   "source": [
    "# Notes from Machine learning class\n",
    "\n",
    "\n"
   ]
  },
  {
   "cell_type": "code",
   "execution_count": 2,
   "metadata": {
    "collapsed": true
   },
   "outputs": [],
   "source": [
    "# section 1- lecture 2 - ML is the future\n",
    "\n",
    "# humans create a lot of data and it is growing exponentially\n",
    "\n",
    "# basically, there is alot of data, if you cut down the entire rain forest and filled all of hte paper from the trees with letters, that would be a petabyte\n"
   ]
  },
  {
   "cell_type": "code",
   "execution_count": 3,
   "metadata": {
    "collapsed": true
   },
   "outputs": [],
   "source": [
    "# section 1- lecture 3 - installing R\n",
    "\n",
    "# just goes to site and installs R and RStudio"
   ]
  },
  {
   "cell_type": "code",
   "execution_count": 4,
   "metadata": {
    "collapsed": true
   },
   "outputs": [],
   "source": [
    "# section 1 - lecture 3 - installing anaconda\n",
    "\n",
    "# go out to continuum analytics and install the distribution"
   ]
  },
  {
   "cell_type": "code",
   "execution_count": 5,
   "metadata": {
    "collapsed": true
   },
   "outputs": [],
   "source": [
    "####\n",
    "# Part 1 - Data preprocessing\n",
    "###"
   ]
  },
  {
   "cell_type": "code",
   "execution_count": 6,
   "metadata": {
    "collapsed": true
   },
   "outputs": [],
   "source": [
    "# part 1 lecture 7- welcome\n",
    "\n",
    "# preprocessing is essential in all ML tasks\n",
    "\n",
    "# ML will not work properly without preprocessing"
   ]
  },
  {
   "cell_type": "code",
   "execution_count": 7,
   "metadata": {
    "collapsed": true
   },
   "outputs": [],
   "source": [
    "# part 1 lecture 8 - get the dataset\n",
    "\n",
    "# the datasets can be retrieved here: https://www.superdatascience.com/machine-learning/\n",
    "\n",
    "# the first dataset deals with predicting whether a customer will purchase a product\n",
    "\n"
   ]
  },
  {
   "cell_type": "code",
   "execution_count": 8,
   "metadata": {
    "collapsed": true
   },
   "outputs": [],
   "source": [
    "# part 1 lecture 9 - Importing the libraries - Python\n",
    "\n",
    "import pandas as pd\n",
    "import numpy as np\n",
    "import matplotlib.pyplot as plt\n",
    "\n",
    "# libraries are tools for specific jobs...duh...\n",
    "\n"
   ]
  },
  {
   "cell_type": "code",
   "execution_count": 9,
   "metadata": {
    "collapsed": true
   },
   "outputs": [],
   "source": [
    "# part 1 lecture 9 - Importing the libraries - R\n",
    "\n",
    "### SWITCH KERNEL TO R TO RUN\n",
    "\n",
    "# There are no libraries for this since R has the built in base capabilitiy to read in the data"
   ]
  },
  {
   "cell_type": "code",
   "execution_count": 10,
   "metadata": {
    "collapsed": true
   },
   "outputs": [],
   "source": [
    "# part 1 lecture 10 - Importing the dataset - Python\n",
    "\n",
    "# they specify a working directory using Spyder\n",
    "\n",
    "# we will just use the path:\n",
    "\n",
    "dataset = pd.read_csv(\"Machine Learning A-Z\\Part 1 - Data Preprocessing\\Data.csv\")"
   ]
  },
  {
   "cell_type": "code",
   "execution_count": 11,
   "metadata": {},
   "outputs": [
    {
     "name": "stdout",
     "output_type": "stream",
     "text": [
      "   Country   Age   Salary Purchased\n",
      "0   France  44.0  72000.0        No\n",
      "1    Spain  27.0  48000.0       Yes\n",
      "2  Germany  30.0  54000.0        No\n",
      "3    Spain  38.0  61000.0        No\n",
      "4  Germany  40.0      NaN       Yes\n",
      "             Age        Salary\n",
      "count   9.000000      9.000000\n",
      "mean   38.777778  63777.777778\n",
      "std     7.693793  12265.579662\n",
      "min    27.000000  48000.000000\n",
      "25%    35.000000  54000.000000\n",
      "50%    38.000000  61000.000000\n",
      "75%    44.000000  72000.000000\n",
      "max    50.000000  83000.000000\n"
     ]
    }
   ],
   "source": [
    "print(dataset.head())\n",
    "print(dataset.describe())"
   ]
  },
  {
   "cell_type": "code",
   "execution_count": 12,
   "metadata": {},
   "outputs": [
    {
     "name": "stdout",
     "output_type": "stream",
     "text": [
      "[['France' 44.0 72000.0]\n",
      " ['Spain' 27.0 48000.0]\n",
      " ['Germany' 30.0 54000.0]\n",
      " ['Spain' 38.0 61000.0]\n",
      " ['Germany' 40.0 nan]\n",
      " ['France' 35.0 58000.0]\n",
      " ['Spain' nan 52000.0]\n",
      " ['France' 48.0 79000.0]\n",
      " ['Germany' 50.0 83000.0]\n",
      " ['France' 37.0 67000.0]]\n",
      "['No' 'Yes' 'No' 'No' 'Yes' 'Yes' 'No' 'Yes' 'No' 'Yes']\n"
     ]
    }
   ],
   "source": [
    "# now in machine learning, we will need to enter the data in matrices or arrays so that the algorithms work:\n",
    "\n",
    "# create matrix of x variables:\n",
    "X = dataset.iloc[:, :-1].values # all columns except the last one\n",
    "print(X)\n",
    "\n",
    "y = dataset.iloc[:, 3].values\n",
    "print(y)"
   ]
  },
  {
   "cell_type": "markdown",
   "metadata": {},
   "source": [
    "### Part 1 lecture 10 - Importing the dataset - R"
   ]
  },
  {
   "cell_type": "code",
   "execution_count": 68,
   "metadata": {},
   "outputs": [
    {
     "ename": "NameError",
     "evalue": "name 'read' is not defined",
     "output_type": "error",
     "traceback": [
      "\u001b[1;31m---------------------------------------------------------------------------\u001b[0m",
      "\u001b[1;31mNameError\u001b[0m                                 Traceback (most recent call last)",
      "\u001b[1;32m<ipython-input-68-58549ade6f9f>\u001b[0m in \u001b[0;36m<module>\u001b[1;34m()\u001b[0m\n\u001b[0;32m      3\u001b[0m \u001b[1;31m#########\u001b[0m\u001b[1;33m\u001b[0m\u001b[1;33m\u001b[0m\u001b[0m\n\u001b[0;32m      4\u001b[0m \u001b[1;33m\u001b[0m\u001b[0m\n\u001b[1;32m----> 5\u001b[1;33m \u001b[0mdataset\u001b[0m \u001b[1;33m=\u001b[0m \u001b[0mread\u001b[0m\u001b[1;33m.\u001b[0m\u001b[0mcsv\u001b[0m\u001b[1;33m(\u001b[0m\u001b[1;34m\"Machine Learning A-Z/Part 1 - Data Preprocessing/Data.csv\"\u001b[0m\u001b[1;33m)\u001b[0m\u001b[1;33m\u001b[0m\u001b[0m\n\u001b[0m\u001b[0;32m      6\u001b[0m \u001b[1;31m#View(dataset) # cant use View in jupyter kernel\u001b[0m\u001b[1;33m\u001b[0m\u001b[1;33m\u001b[0m\u001b[0m\n\u001b[0;32m      7\u001b[0m \u001b[1;33m\u001b[0m\u001b[0m\n",
      "\u001b[1;31mNameError\u001b[0m: name 'read' is not defined"
     ]
    }
   ],
   "source": [
    "#########\n",
    "# CHANGE TO R KERNEL #\n",
    "#########\n",
    "\n",
    "dataset = read.csv(\"Machine Learning A-Z/Part 1 - Data Preprocessing/Data.csv\")\n",
    "#View(dataset) # cant use View in jupyter kernel\n",
    "\n",
    "# don't need to make the distinction between matrices/features/variables"
   ]
  },
  {
   "cell_type": "markdown",
   "metadata": {},
   "source": [
    "# Part 1 - Lecture 12- Missing data"
   ]
  },
  {
   "cell_type": "markdown",
   "metadata": {},
   "source": [
    "#### Python"
   ]
  },
  {
   "cell_type": "code",
   "execution_count": 13,
   "metadata": {},
   "outputs": [
    {
     "name": "stdout",
     "output_type": "stream",
     "text": [
      "   Country   Age   Salary Purchased\n",
      "0   France  44.0  72000.0        No\n",
      "1    Spain  27.0  48000.0       Yes\n",
      "2  Germany  30.0  54000.0        No\n",
      "3    Spain  38.0  61000.0        No\n",
      "4  Germany  40.0      NaN       Yes\n",
      "5   France  35.0  58000.0       Yes\n",
      "6    Spain   NaN  52000.0        No\n",
      "7   France  48.0  79000.0       Yes\n",
      "8  Germany  50.0  83000.0        No\n",
      "9   France  37.0  67000.0       Yes\n"
     ]
    }
   ],
   "source": [
    "# now need to impute data in Python because of the missing values:\n",
    "print(dataset)"
   ]
  },
  {
   "cell_type": "code",
   "execution_count": 14,
   "metadata": {
    "collapsed": true
   },
   "outputs": [],
   "source": [
    "from sklearn.preprocessing import Imputer"
   ]
  },
  {
   "cell_type": "code",
   "execution_count": 15,
   "metadata": {},
   "outputs": [
    {
     "name": "stdout",
     "output_type": "stream",
     "text": [
      "[['France' 44.0 72000.0]\n",
      " ['Spain' 27.0 48000.0]\n",
      " ['Germany' 30.0 54000.0]\n",
      " ['Spain' 38.0 61000.0]\n",
      " ['Germany' 40.0 63777.77777777778]\n",
      " ['France' 35.0 58000.0]\n",
      " ['Spain' 38.77777777777778 52000.0]\n",
      " ['France' 48.0 79000.0]\n",
      " ['Germany' 50.0 83000.0]\n",
      " ['France' 37.0 67000.0]]\n"
     ]
    }
   ],
   "source": [
    "imputer = Imputer(missing_values = 'NaN', strategy = 'mean', axis = 0) # recognizes that missing values are NaNs and not something else\n",
    "# hit ctrl + i to get information\n",
    "# axis = 0 is the mean of hte columns\n",
    "\n",
    "imputer = imputer.fit(X[:,1:3]) # only impute the columns with missing values; upper bound is excluded \n",
    "\n",
    "# replace the data in the data:\n",
    "\n",
    "X[:, 1:3] = imputer.transform(X[:,1:3])\n",
    "\n",
    "print(X)"
   ]
  },
  {
   "cell_type": "code",
   "execution_count": 16,
   "metadata": {},
   "outputs": [
    {
     "name": "stdout",
     "output_type": "stream",
     "text": [
      "63777.77777777778\n",
      "38.77777777777778\n"
     ]
    }
   ],
   "source": [
    "# check to see if these values were correct:\n",
    "\n",
    "print(dataset['Salary'].mean())\n",
    "print(dataset['Age'].mean())\n",
    "\n",
    "# remember, can use median, mode, etc."
   ]
  },
  {
   "cell_type": "markdown",
   "metadata": {},
   "source": [
    "#### R"
   ]
  },
  {
   "cell_type": "code",
   "execution_count": null,
   "metadata": {
    "collapsed": true
   },
   "outputs": [],
   "source": [
    "# impute age\n",
    "\n",
    "dataset$Age = ifelse(is.na(dataset$Age),\n",
    "                    avg(dataset$Age, FUN = function(x) mean(x, na.rm = TRUE)) , \n",
    "                    dataset$Age)\n",
    "\n",
    "# impute salary\n",
    "\n",
    "dataset$Salary = ifelse(is.na(dataset$Salary),\n",
    "                    avg(dataset$Salary, FUN = function(x) mean(x, na.rm = TRUE)) , \n",
    "                    dataset$Salary)\n"
   ]
  },
  {
   "cell_type": "markdown",
   "metadata": {},
   "source": [
    "# Part 1 - Lecture 13- Categorical Data"
   ]
  },
  {
   "cell_type": "markdown",
   "metadata": {},
   "source": [
    "#### Python"
   ]
  },
  {
   "cell_type": "code",
   "execution_count": 17,
   "metadata": {
    "collapsed": true
   },
   "outputs": [],
   "source": [
    "# we have 2 categorical variables in the data: purchased, and Country\n",
    "\n",
    "# we must encode this text into numbers:\n",
    "\n",
    "from sklearn.preprocessing import LabelEncoder, OneHotEncoder # label encoder is a class from the sklearn library\n",
    "\n",
    "labelencoder_X = LabelEncoder() # create teh object then use on column\n",
    "\n",
    "X[:,0] = labelencoder_X.fit_transform(X[:,0]) # fit to country of matrix X and encode and make it the first column of the matrix\n",
    "\n",
    "# however, this is bad, since it is categorical, it is not necesarily that spain is > france, etc.\n",
    "\n",
    "# so we must use dummy variables with one hot encoder:\n",
    "\n",
    "onehotencoder = OneHotEncoder(categorical_features = [0]) # ctrl + i = inspect\n",
    "X = onehotencoder.fit_transform(X).toarray()\n"
   ]
  },
  {
   "cell_type": "code",
   "execution_count": 18,
   "metadata": {},
   "outputs": [
    {
     "name": "stdout",
     "output_type": "stream",
     "text": [
      "     0    1    2          3             4\n",
      "0  1.0  0.0  0.0  44.000000  72000.000000\n",
      "1  0.0  0.0  1.0  27.000000  48000.000000\n",
      "2  0.0  1.0  0.0  30.000000  54000.000000\n",
      "3  0.0  0.0  1.0  38.000000  61000.000000\n",
      "4  0.0  1.0  0.0  40.000000  63777.777778\n",
      "5  1.0  0.0  0.0  35.000000  58000.000000\n",
      "6  0.0  0.0  1.0  38.777778  52000.000000\n",
      "7  1.0  0.0  0.0  48.000000  79000.000000\n",
      "8  0.0  1.0  0.0  50.000000  83000.000000\n",
      "9  1.0  0.0  0.0  37.000000  67000.000000\n",
      "   Country   Age   Salary Purchased\n",
      "0   France  44.0  72000.0        No\n",
      "1    Spain  27.0  48000.0       Yes\n",
      "2  Germany  30.0  54000.0        No\n",
      "3    Spain  38.0  61000.0        No\n",
      "4  Germany  40.0      NaN       Yes\n",
      "5   France  35.0  58000.0       Yes\n",
      "6    Spain   NaN  52000.0        No\n",
      "7   France  48.0  79000.0       Yes\n",
      "8  Germany  50.0  83000.0        No\n",
      "9   France  37.0  67000.0       Yes\n"
     ]
    }
   ],
   "source": [
    "# now, let's look at X and compare:\n",
    "\n",
    "print(pd.DataFrame(X)) # france, germany, spain, age, wage - columns\n",
    "print(dataset)"
   ]
  },
  {
   "cell_type": "code",
   "execution_count": 19,
   "metadata": {
    "collapsed": true
   },
   "outputs": [],
   "source": [
    "# transforming the Y variable using label encoder:\n",
    "\n",
    "labelencoder_y = LabelEncoder()\n",
    "y = labelencoder_y.fit_transform(y)"
   ]
  },
  {
   "cell_type": "code",
   "execution_count": 20,
   "metadata": {},
   "outputs": [
    {
     "name": "stdout",
     "output_type": "stream",
     "text": [
      "[0 1 0 0 1 1 0 1 0 1]\n"
     ]
    }
   ],
   "source": [
    "# show the resulting dataset:\n",
    "print(y)"
   ]
  },
  {
   "cell_type": "markdown",
   "metadata": {},
   "source": [
    "#### R"
   ]
  },
  {
   "cell_type": "code",
   "execution_count": null,
   "metadata": {
    "collapsed": true
   },
   "outputs": [],
   "source": [
    "# R is much simpler than anything else, we will use the factor function to change the variables into factor categories\n",
    "\n",
    "# start with country column:\n",
    "\n",
    "dataset$Country = factor(dataset$Country\n",
    "                        levels = c('France','Spain','Germany'),\n",
    "                        labels = c(1, 2, 3))\n",
    "\n",
    "# encode the Y variable (purchased) :\n",
    "dataset$Purchased = factor(dataset$Purchased\n",
    "                        levels = c('No','Yes'),\n",
    "                        labels = c(0, 1))"
   ]
  },
  {
   "cell_type": "markdown",
   "metadata": {},
   "source": [
    "# Part 1 - Lecture 14- Splitting the dataset into training set and test set"
   ]
  },
  {
   "cell_type": "markdown",
   "metadata": {},
   "source": [
    "#### Python"
   ]
  },
  {
   "cell_type": "code",
   "execution_count": 21,
   "metadata": {},
   "outputs": [
    {
     "name": "stderr",
     "output_type": "stream",
     "text": [
      "C:\\Users\\alexd\\Anaconda3\\lib\\site-packages\\sklearn\\cross_validation.py:41: DeprecationWarning: This module was deprecated in version 0.18 in favor of the model_selection module into which all the refactored classes and functions are moved. Also note that the interface of the new CV iterators are different from that of this module. This module will be removed in 0.20.\n",
      "  \"This module will be removed in 0.20.\", DeprecationWarning)\n"
     ]
    }
   ],
   "source": [
    "# need to split dataset into training and test sets. Always need to split the dataset into training and test datasets\n",
    "    # if the model is learning too much, then it is basically a moot point to create the model because it could represent a case of \n",
    "    # overfitting the model to all of the known data.  We expect the model to be able to adapt to new situations\n",
    "\n",
    "from sklearn.cross_validation import train_test_split\n",
    "\n",
    "X_train, X_test, y_train, y_test = train_test_split(X, y, test_size = 0.2, random_state = 0)\n"
   ]
  },
  {
   "cell_type": "code",
   "execution_count": 22,
   "metadata": {},
   "outputs": [
    {
     "name": "stdout",
     "output_type": "stream",
     "text": [
      "10\n",
      "8\n",
      "2\n",
      "8\n",
      "2\n"
     ]
    }
   ],
   "source": [
    "# look at what happened:\n",
    "\n",
    "print(len(dataset))\n",
    "\n",
    "# see if they all add up:\n",
    "print(len(X_train))\n",
    "print(len(X_test))\n",
    "print(len(y_train))\n",
    "print(len(y_test))\n",
    "\n",
    "# everything seems to look pretty nice!"
   ]
  },
  {
   "cell_type": "markdown",
   "metadata": {},
   "source": [
    "#### R"
   ]
  },
  {
   "cell_type": "code",
   "execution_count": null,
   "metadata": {
    "collapsed": true
   },
   "outputs": [],
   "source": [
    "# we will import a library for this (no necessary)\n",
    "\n",
    "library(caTools)\n",
    "\n",
    "set.seed(123)\n",
    "\n",
    "# prepare the method:\n",
    "\n",
    "split = sample.split(dataset$Purchased, SplitRatio = 0.8) # f1 will give you the explanation sheet\n",
    "\n",
    "# this gives a vector that says true to training and false to test set:\n",
    "\n",
    "training_set = subset(dataset, split == TRUE)\n",
    "test_set = subset(dataset, split == FALSE)"
   ]
  },
  {
   "cell_type": "markdown",
   "metadata": {},
   "source": [
    "# Part 1 - Lecture 15- Feature scaling"
   ]
  },
  {
   "cell_type": "markdown",
   "metadata": {},
   "source": [
    "#### Python"
   ]
  },
  {
   "cell_type": "code",
   "execution_count": 25,
   "metadata": {
    "collapsed": true
   },
   "outputs": [],
   "source": [
    "# important to scale numeric data because values that are much larger can be more influential in the models than necessary.  \n",
    "# many machine learning models are based on Euclidean distance (sqrt of the sum of the squared distances) - \n",
    "# this prevents one variable from dominating hte model simply due to scale - some variables may appear to not exist in this case"
   ]
  },
  {
   "cell_type": "code",
   "execution_count": 26,
   "metadata": {
    "collapsed": true
   },
   "outputs": [],
   "source": [
    "# 2 main ways to do it:\n",
    "\n",
    "# standardization - x - mean / standard deviation\n",
    "# normalization - x - mean / max - min\n",
    "\n",
    "# feature scaling:\n",
    "\n",
    "from sklearn.preprocessing import StandardScaler\n",
    "\n",
    "sc_X = StandardScaler()\n",
    "X_train = sc_X.fit_transform(X_train)\n",
    "X_test = sc_X.transform(X_test) # already fit to the training set so do not need to fit, just transform it\n",
    "\n",
    "# do we need to transform the dummy variables? several people have differing views on this - depends on the context and how much\n",
    "    # interpretability you want in the models, you lose the interpretations when you do it - model will not break, just changes some things\n",
    "    # we will scale since we are not interpretting in this context\n",
    "# can also increase the speed of the algorithm\n",
    "\n",
    "    "
   ]
  },
  {
   "cell_type": "markdown",
   "metadata": {},
   "source": [
    "#### R"
   ]
  },
  {
   "cell_type": "code",
   "execution_count": null,
   "metadata": {
    "collapsed": true
   },
   "outputs": [],
   "source": [
    "# feature scaling:\n",
    "\n",
    "# 2 lines of code:\n",
    "\n",
    "training_set = scale(training_set)\n",
    "test_set = scale(test_set)\n",
    "\n",
    "# you will get an error that x must be numeric - remember, we changed the categories to factors - therefore, there is an error associated with this action on the data\n",
    "\n",
    "# we need to exclude the categories from the columns:\n",
    "\n",
    "training_set[,2:3] = scale(training_set[,2:3])\n",
    "test_set[,2:3] = scale(test_set[,2:3])\n",
    "\n"
   ]
  },
  {
   "cell_type": "markdown",
   "metadata": {},
   "source": [
    "# Part 1 - Lecture 16- Data preprocessing template"
   ]
  },
  {
   "cell_type": "code",
   "execution_count": 27,
   "metadata": {
    "collapsed": true
   },
   "outputs": [],
   "source": [
    "#### Python\n",
    "\n",
    "# Let's tie it all together:\n",
    "\n",
    "# import libraries:\n",
    "\n",
    "import numpy as np\n",
    "import pandas as pd\n",
    "import matplotlib.pyplot as plt\n",
    "\n",
    "# import the dataset:\n",
    "\n",
    "dataset = pd.read_csv(\"Machine Learning A-Z\\Part 1 - Data Preprocessing\\Data.csv\")\n",
    "\n",
    "X = dataset.iloc[:,:-1].values\n",
    "y = dataset.iloc[:,3].values\n",
    "\n",
    "\n",
    "# encoding categorical data:\n",
    "\n",
    "from sklearn.preprocessing import LabelEncoder, OneHotEncoder\n",
    "labelencoder_X = LabelEncoder() \n",
    "X[:,0] = labelencoder_X.fit_transform(X[:,0]) \n",
    "onehotencoder = OneHotEncoder(categorical_features = [0]) # ctrl + i = inspect\n",
    "X = onehotencoder.fit_transform(X).toarray()\n",
    "labelencoder_y = LabelEncoder() \n",
    "y = labelencoder_y.fit_transform(y)\n",
    "\n",
    "# Splitting the dataset into training and test sets:\n",
    "\n",
    "from sklearn.cross_validation import train_test_split\n",
    "X_train, X_test, y_train, y_test = train_test_split(X, y, test_size = 0.2, random_state = 0)\n",
    "\n",
    "# Feature scaling:\n",
    "\n",
    "from sklearn.preprocessing import StandardScaler\n",
    "\n",
    "sc_X = StandardScaler()\n",
    "X_train = sc_X.fit_transform(X_train)\n",
    "X_test = sc_X.transform(X_test)\n"
   ]
  },
  {
   "cell_type": "markdown",
   "metadata": {},
   "source": [
    "# Part 2 - Regression"
   ]
  },
  {
   "cell_type": "markdown",
   "metadata": {},
   "source": [
    "# Part 2 - section 4 - Simple linear regression"
   ]
  },
  {
   "cell_type": "markdown",
   "metadata": {},
   "source": [
    "# Part 2 - lecture 19: How to get the dataset:"
   ]
  },
  {
   "cell_type": "code",
   "execution_count": null,
   "metadata": {
    "collapsed": true
   },
   "outputs": [],
   "source": [
    "# basically a repeat of the original importation technique"
   ]
  },
  {
   "cell_type": "markdown",
   "metadata": {},
   "source": [
    "### Part 2 - lecture 20: Dataset + problem description"
   ]
  },
  {
   "cell_type": "code",
   "execution_count": null,
   "metadata": {
    "collapsed": true
   },
   "outputs": [],
   "source": [
    "# looking at relationship betweene salary and years of experience - want ot figure out relationship"
   ]
  },
  {
   "cell_type": "markdown",
   "metadata": {},
   "source": [
    "### Part 2 - lecture 21: simple linear regression intuition"
   ]
  },
  {
   "cell_type": "markdown",
   "metadata": {},
   "source": [
    "simple model: y = b1x1 + b0\n",
    "\n",
    "Just hte formula for a linear sloped line.\n",
    "\n",
    "y is the dependent variable\n",
    "x is the independent variable\n",
    "\n",
    "Using observations to get a best fitted line"
   ]
  },
  {
   "cell_type": "markdown",
   "metadata": {},
   "source": [
    "### Part 2- lecture 22: simple linear regression intuition- part 2"
   ]
  },
  {
   "cell_type": "markdown",
   "metadata": {},
   "source": [
    "actual observations are yi and the predicted is the yi^ - look for the differences between these, we are trying the minimize the observed and the model squared - min(sum of squared errors)"
   ]
  },
  {
   "cell_type": "markdown",
   "metadata": {},
   "source": [
    "### Part 2 - Lecture 23: Simple Linear Regression in Python - steps 1 and 2"
   ]
  },
  {
   "cell_type": "code",
   "execution_count": 27,
   "metadata": {
    "collapsed": true
   },
   "outputs": [],
   "source": [
    "# simple linear regression:\n",
    "\n",
    "# first need to make sure we are in the correct working directory: we are because we are in a notebook; in Spyder, you can set it\n",
    "\n",
    "# need to pre-process the data (use template):\n",
    "\n",
    "\n",
    "import numpy as np\n",
    "import pandas as pd\n",
    "import matplotlib.pyplot as plt\n",
    "\n",
    "# import the dataset:\n",
    "\n",
    "dataset = pd.read_csv(\"Machine Learning A-Z\\Part 2 - Regression\\Section 4 - Simple Linear Regression\\Salary_Data.csv\")\n",
    "\n"
   ]
  },
  {
   "cell_type": "code",
   "execution_count": 28,
   "metadata": {},
   "outputs": [
    {
     "name": "stdout",
     "output_type": "stream",
     "text": [
      "   YearsExperience   Salary\n",
      "0              1.1  39343.0\n",
      "1              1.3  46205.0\n",
      "2              1.5  37731.0\n",
      "3              2.0  43525.0\n",
      "4              2.2  39891.0\n",
      "       YearsExperience         Salary\n",
      "count        30.000000      30.000000\n",
      "mean          5.313333   76003.000000\n",
      "std           2.837888   27414.429785\n",
      "min           1.100000   37731.000000\n",
      "25%           3.200000   56720.750000\n",
      "50%           4.700000   65237.000000\n",
      "75%           7.700000  100544.750000\n",
      "max          10.500000  122391.000000\n"
     ]
    }
   ],
   "source": [
    "print(dataset.head())\n",
    "print(dataset.describe())"
   ]
  },
  {
   "cell_type": "code",
   "execution_count": 29,
   "metadata": {
    "collapsed": true
   },
   "outputs": [],
   "source": [
    "# dataset contains years of experience and respective salaries for 30 observations\n",
    "\n",
    "# we will train a simple linear regression that learns the relationship between years of experience and the salary\n",
    "\n",
    "# separate the arrays:\n",
    "X = dataset.iloc[:,:-1]\n",
    "y = dataset.iloc[:,1]"
   ]
  },
  {
   "cell_type": "code",
   "execution_count": 30,
   "metadata": {},
   "outputs": [
    {
     "name": "stdout",
     "output_type": "stream",
     "text": [
      "   YearsExperience\n",
      "0              1.1\n",
      "1              1.3\n",
      "2              1.5\n",
      "3              2.0\n",
      "4              2.2 0    39343.0\n",
      "1    46205.0\n",
      "2    37731.0\n",
      "3    43525.0\n",
      "4    39891.0\n",
      "Name: Salary, dtype: float64\n"
     ]
    }
   ],
   "source": [
    "print(X.head(), y.head())"
   ]
  },
  {
   "cell_type": "code",
   "execution_count": 31,
   "metadata": {
    "collapsed": true
   },
   "outputs": [],
   "source": [
    "# now, we need to split into training and test set:\n",
    "\n",
    "from sklearn.cross_validation import train_test_split\n",
    "\n",
    "X_train, X_test, y_train, y_test = train_test_split( X, y, test_size = 1/3, random_state = 0)\n",
    "\n",
    "# remember, always use the training data to train the model and then test the performance on the corresponding test set"
   ]
  },
  {
   "cell_type": "code",
   "execution_count": 32,
   "metadata": {},
   "outputs": [
    {
     "data": {
      "text/plain": [
       "LinearRegression(copy_X=True, fit_intercept=True, n_jobs=1, normalize=False)"
      ]
     },
     "execution_count": 32,
     "metadata": {},
     "output_type": "execute_result"
    }
   ],
   "source": [
    "# we do not need to scale the features, because our library will do this for us:\n",
    "\n",
    "from sklearn.linear_model import LinearRegression # import the linear regression class\n",
    "regressor = LinearRegression() # like function that will return object of itself, in this case the regressor itself\n",
    "\n",
    "# use hte fit method to fit the regressor object to the data:\n",
    "\n",
    "regressor.fit(X_train, y_train) # possible arguments: x, y, sample_weight:need to research more\n",
    "\n",
    "# the machine is the simple linear regression model - the regressor is the machine, and it is learning on the training set"
   ]
  },
  {
   "cell_type": "markdown",
   "metadata": {},
   "source": [
    "### Part 2 - Lecture 23: Simple Linear Regression in Python - step 3"
   ]
  },
  {
   "cell_type": "code",
   "execution_count": 33,
   "metadata": {
    "collapsed": true
   },
   "outputs": [],
   "source": [
    "# went through first 2 steps - preprocess data (x and y split; training/test), linear regressor object class/method - .fit()\n",
    "\n",
    "# as the machine learns the observations, we see how our model can predict unseen observations\n",
    "\n",
    "# see how well it predicts:\n",
    "\n",
    "# create a vector of predicted values:\n",
    "\n",
    "y_pred = regressor.predict(X_test)"
   ]
  },
  {
   "cell_type": "markdown",
   "metadata": {},
   "source": [
    "### Part 2 - Lecture 23: Simple Linear Regression in Python - step 4"
   ]
  },
  {
   "cell_type": "code",
   "execution_count": 34,
   "metadata": {},
   "outputs": [
    {
     "data": {
      "image/png": "[encoded data removed]",
      "text/plain": [
       "<matplotlib.figure.Figure at 0x1b7421e2ba8>"
      ]
     },
     "metadata": {},
     "output_type": "display_data"
    }
   ],
   "source": [
    "# now that we have predicted based on unseen data in the model we will visualize the training set results:\n",
    "\n",
    "# plot the real employees:\n",
    "%matplotlib inline\n",
    "\n",
    "ax = plt.scatter(X_train, y_train, color = 'red')"
   ]
  },
  {
   "cell_type": "code",
   "execution_count": 35,
   "metadata": {},
   "outputs": [
    {
     "data": {
      "image/png": "[encoded data removed]",
      "text/plain": [
       "<matplotlib.figure.Figure at 0x1b74453cbe0>"
      ]
     },
     "metadata": {},
     "output_type": "display_data"
    }
   ],
   "source": [
    "# look at the data another way:\n",
    "\n",
    "#visualizing training set results:\n",
    "plt.plot( X_train, regressor.predict(X_train), color = 'blue') # plot the predicted values of hte training set\n",
    "plt.scatter(X_train, y_train, color = 'red')\n",
    "plt.title('Salary vs. Experience (Training set)')\n",
    "plt.xlabel('years of experience')\n",
    "plt.ylabel('Salary')\n",
    "plt.show()"
   ]
  },
  {
   "cell_type": "code",
   "execution_count": 36,
   "metadata": {
    "collapsed": true
   },
   "outputs": [],
   "source": [
    "# can see that we have a pretty bad outlier in the dataset here that is heavily influencing the model in a negative fashion"
   ]
  },
  {
   "cell_type": "code",
   "execution_count": 37,
   "metadata": {},
   "outputs": [
    {
     "data": {
      "image/png": "[encoded data removed]",
      "text/plain": [
       "<matplotlib.figure.Figure at 0x1b7445f6b00>"
      ]
     },
     "metadata": {},
     "output_type": "display_data"
    }
   ],
   "source": [
    "# now, plot the same sort of graph but layer in the test set observation points:\n",
    "\n",
    "# visualizing the test set results:\n",
    "plt.plot( X_train, regressor.predict(X_train), color = 'blue') # plot the predicted values of hte training set\n",
    "plt.scatter(X_test, y_test, color = 'red')\n",
    "plt.title('Salary vs. Experience (Test set)')\n",
    "plt.xlabel('years of experience')\n",
    "plt.ylabel('Salary')\n",
    "plt.show()\n"
   ]
  },
  {
   "cell_type": "code",
   "execution_count": 38,
   "metadata": {},
   "outputs": [
    {
     "name": "stdout",
     "output_type": "stream",
     "text": [
      "    YearsExperience\n",
      "2               1.5\n",
      "28             10.3\n",
      "13              4.1\n",
      "10              3.9\n",
      "26              9.5\n",
      "24              8.7\n",
      "27              9.6\n",
      "11              4.0\n",
      "17              5.3\n",
      "22              7.9\n"
     ]
    }
   ],
   "source": [
    "print(X_test)\n"
   ]
  },
  {
   "cell_type": "markdown",
   "metadata": {},
   "source": [
    "### R"
   ]
  },
  {
   "cell_type": "markdown",
   "metadata": {},
   "source": [
    "### Part 2 - Lecture 27: Simple Linear Regression in R - Step 1"
   ]
  },
  {
   "cell_type": "code",
   "execution_count": null,
   "metadata": {
    "collapsed": true
   },
   "outputs": [],
   "source": [
    "# video\n",
    "\n",
    "# simple linear regression in R - compress all of the linear regression from the previous:\n",
    "\n",
    "# set working directory:- this should be done basedo n location of the file\n",
    "\n",
    "# data pre-processing:\n",
    "\n",
    "dataset = read.csv(\"Machine Learning A-Z\\Part 2 - Regression\\Section 4 - Simple Linear Regression\\Salary_Data.csv\")\n",
    "\n",
    "head(dataset)\n",
    "\n",
    "# first reflex - understand difference between independent and dependent variables\n",
    "\n",
    "# # split into training and test set:\n",
    "\n",
    "library(caTools)\n",
    "set.seed(123)\n",
    "\n",
    "split = sample.split(dataset$Salary, SplitRatio = 2/3)\n",
    "\n",
    "training_set = subset(dataset, split == TRUE)\n",
    "test_set = subset(dataset, split == FALSE)\n",
    "\n",
    "# simple linear regression package takes care of feature scaling in R\n",
    "\n",
    "\n",
    "\n"
   ]
  },
  {
   "cell_type": "markdown",
   "metadata": {},
   "source": [
    "### Part 2 - Lecture 27: Simple Linear Regression in R - Step 2"
   ]
  },
  {
   "cell_type": "code",
   "execution_count": null,
   "metadata": {
    "collapsed": true
   },
   "outputs": [],
   "source": [
    "# now we will fit the model:\n",
    "\n",
    "regressor <- lm(formula = Salary ~ YearsExperience, data = training_set) # press f1 to see the arguments\n",
    "\n",
    "# now look at the values:\n",
    "\n",
    "summary(regressor)\n",
    "\n",
    "#looking at significance - remember that p-value is : probability of observing a value as or more extreme by chance given that the null hypothesis is true\n",
    "\n",
    "# load the library:\n",
    "\n",
    "library(catools)\n",
    "\n",
    "set.seed(123)\n",
    "split = sample.split(dataset$Salary, SplitRatio = 2/3)\n",
    "\n",
    "training_set = subset(dataset, split == TRUE)\n",
    "test_set = subset(dataset, split == FALSE)\n",
    "\n",
    "# feature scaling is the next step, but lm takes care of this in the model\n"
   ]
  },
  {
   "cell_type": "markdown",
   "metadata": {},
   "source": [
    "### Part 2 - Lecture 28: Simple Linear Regression in R - Step 2"
   ]
  },
  {
   "cell_type": "code",
   "execution_count": null,
   "metadata": {
    "collapsed": true
   },
   "outputs": [],
   "source": [
    "# now, we are ready to fit a simple linear regression to the dataset:\n",
    "\n",
    "regressor <- lm(formula = Salary~YearsExperience, data = training_set)\n",
    "\n",
    "summary(regressor)"
   ]
  },
  {
   "cell_type": "markdown",
   "metadata": {},
   "source": [
    "### Part 2 - Lecture 29: Simple Linear Regression in R - Step 3"
   ]
  },
  {
   "cell_type": "code",
   "execution_count": null,
   "metadata": {
    "collapsed": true
   },
   "outputs": [],
   "source": [
    "# predicting the test results:\n",
    "\n",
    "y_pred = predict(regressor, newdata = test_Set)\n",
    "\n",
    "# look at the salary predictions:\n",
    "y_pred\n",
    "\n",
    "# next we will make graphs of the values:\n"
   ]
  },
  {
   "cell_type": "markdown",
   "metadata": {},
   "source": [
    "### Part 2 - Lecture 29: Simple Linear Regression in R - Step 4"
   ]
  },
  {
   "cell_type": "code",
   "execution_count": null,
   "metadata": {
    "collapsed": true
   },
   "outputs": [],
   "source": [
    "# plotting the datasets:\n",
    "\n",
    "\n",
    "# look at how well things fit hte training set:\n",
    "library(ggplot2)\n",
    "\n",
    "ggplot() + \n",
    "    geom_point(aes( x= test_set$YearsExperience, y = test_set$Salary), # change this line to test set\n",
    "              colour = 'red') +\n",
    "    geom_line(aes(x = training_set$YearsExperience, y = predict(regressor, newdata = training_set)), # do not need to change training set, because this is our regressor\n",
    "             colour = 'blue') + \n",
    "    ggtitle('Salary vs Experience (Training set)') + \n",
    "    xlab('Years of experience') + \n",
    "    ylab('Salary')\n",
    "    \n",
    "# look at how well test set is fit:\n",
    "\n",
    "ggplot() + \n",
    "    geom_point(aes( x= training_set$YearsExperience, y = training_set$Salary),\n",
    "              colour = 'red') +\n",
    "    geom_line(aes(x = training_set$YearsExperience, y = predict(regressor, newdata = training_set)),\n",
    "             colour = 'blue') + \n",
    "    ggtitle('Salary vs Experience (Test set)') + \n",
    "    xlab('Years of experience') + \n",
    "    ylab('Salary')\n",
    "    "
   ]
  },
  {
   "cell_type": "markdown",
   "metadata": {},
   "source": [
    "# Section 5 - Multiple linear regression"
   ]
  },
  {
   "cell_type": "code",
   "execution_count": 39,
   "metadata": {
    "collapsed": true
   },
   "outputs": [],
   "source": [
    "# have a dataset that has only several fields, profit being the dependent variable:\n",
    "\n",
    "import pandas as pd\n",
    "\n",
    "dataset = pd.read_csv(\"Machine Learning A-Z\\Part 2 - Regression\\Section 5 - Multiple Linear Regression\\\\50_Startups.csv\")\n",
    "\n",
    "# make sure you put an escape character in the csv file name\n"
   ]
  },
  {
   "cell_type": "code",
   "execution_count": 40,
   "metadata": {},
   "outputs": [
    {
     "data": {
      "text/html": [
       "<div>\n",
       "<style>\n",
       "    .dataframe thead tr:only-child th {\n",
       "        text-align: right;\n",
       "    }\n",
       "\n",
       "    .dataframe thead th {\n",
       "        text-align: left;\n",
       "    }\n",
       "\n",
       "    .dataframe tbody tr th {\n",
       "        vertical-align: top;\n",
       "    }\n",
       "</style>\n",
       "<table border=\"1\" class=\"dataframe\">\n",
       "  <thead>\n",
       "    <tr style=\"text-align: right;\">\n",
       "      <th></th>\n",
       "      <th>R&amp;D Spend</th>\n",
       "      <th>Administration</th>\n",
       "      <th>Marketing Spend</th>\n",
       "      <th>State</th>\n",
       "      <th>Profit</th>\n",
       "    </tr>\n",
       "  </thead>\n",
       "  <tbody>\n",
       "    <tr>\n",
       "      <th>0</th>\n",
       "      <td>165349.20</td>\n",
       "      <td>136897.80</td>\n",
       "      <td>471784.10</td>\n",
       "      <td>New York</td>\n",
       "      <td>192261.83</td>\n",
       "    </tr>\n",
       "    <tr>\n",
       "      <th>1</th>\n",
       "      <td>162597.70</td>\n",
       "      <td>151377.59</td>\n",
       "      <td>443898.53</td>\n",
       "      <td>California</td>\n",
       "      <td>191792.06</td>\n",
       "    </tr>\n",
       "    <tr>\n",
       "      <th>2</th>\n",
       "      <td>153441.51</td>\n",
       "      <td>101145.55</td>\n",
       "      <td>407934.54</td>\n",
       "      <td>Florida</td>\n",
       "      <td>191050.39</td>\n",
       "    </tr>\n",
       "    <tr>\n",
       "      <th>3</th>\n",
       "      <td>144372.41</td>\n",
       "      <td>118671.85</td>\n",
       "      <td>383199.62</td>\n",
       "      <td>New York</td>\n",
       "      <td>182901.99</td>\n",
       "    </tr>\n",
       "    <tr>\n",
       "      <th>4</th>\n",
       "      <td>142107.34</td>\n",
       "      <td>91391.77</td>\n",
       "      <td>366168.42</td>\n",
       "      <td>Florida</td>\n",
       "      <td>166187.94</td>\n",
       "    </tr>\n",
       "  </tbody>\n",
       "</table>\n",
       "</div>"
      ],
      "text/plain": [
       "   R&D Spend  Administration  Marketing Spend       State     Profit\n",
       "0  165349.20       136897.80        471784.10    New York  192261.83\n",
       "1  162597.70       151377.59        443898.53  California  191792.06\n",
       "2  153441.51       101145.55        407934.54     Florida  191050.39\n",
       "3  144372.41       118671.85        383199.62    New York  182901.99\n",
       "4  142107.34        91391.77        366168.42     Florida  166187.94"
      ]
     },
     "execution_count": 40,
     "metadata": {},
     "output_type": "execute_result"
    }
   ],
   "source": [
    "dataset.head()"
   ]
  },
  {
   "cell_type": "markdown",
   "metadata": {},
   "source": [
    "### Part 2 - Section 5 - multiple linear regression - lecture 34 - Multiple linear regression Step 2 (step 1 is very basic)"
   ]
  },
  {
   "cell_type": "markdown",
   "metadata": {},
   "source": [
    " assumptions of multiple regression model:\n",
    " \n",
    "1.) linearity\n",
    "\n",
    "2.) Homoscedasticity\n",
    "\n",
    "3.) Multivariate normality\n",
    "\n",
    "4.) Independence of errors\n",
    "\n",
    "5.) Lack of multicollinearity"
   ]
  },
  {
   "cell_type": "markdown",
   "metadata": {},
   "source": [
    "### Part 2 - Section 5 - multiple linear regression - lecture 35 - Multiple linear regression Step 3"
   ]
  },
  {
   "cell_type": "markdown",
   "metadata": {},
   "source": [
    " dummy variables:\n",
    " \n",
    " The dataset has state as a categorical field; it is hard to add this variable to the equation as it is, so we need to create a dummy\n",
    " \n",
    "For every category, we need to create a column: in this dataset, New York and california are the only 2 categories\n",
    "\n",
    "This is where Boolean indicator variables come into play\n",
    "\n",
    "** remember that we only need to use one of these in the model.  In this case, they make california the reference value - dummy variable trap - describes it as a light switch - off then company not New York; on then it is New York\n",
    "\n",
    "California becomes the default mode for this regression - included in the constant"
   ]
  },
  {
   "cell_type": "markdown",
   "metadata": {},
   "source": [
    "### Part 2 - Section 5 - multiple linear regression - lecture 36 - Multiple linear regression Step 4"
   ]
  },
  {
   "cell_type": "markdown",
   "metadata": {},
   "source": [
    "The dummy variable trap\n",
    "\n",
    "Remember in this case, we can never include both because in this case, D2 = 1-D1 is always the case\n",
    "\n",
    "What will happen if we do include it in the model - you wind up duplicating the variable.  This creates multicollinearity and model will not be able to deliminate between variables."
   ]
  },
  {
   "cell_type": "markdown",
   "metadata": {},
   "source": [
    "### Part 2 - Section 5 - multiple linear regression - lecture 38 - Multiple linear regression Step 5"
   ]
  },
  {
   "cell_type": "markdown",
   "metadata": {},
   "source": [
    "How to build a model (step-by-step)\n",
    "\n",
    "1. In most cases, we have additional predictors for the dependent variable and we need to decide which ones we wind up keeping and which ones to throw out.\n",
    "\n",
    "    a.) 2 reasons to throw out: GIGO = unreliability; Explainability - what does it mean? having 1000 variables very hard\n",
    "    \n",
    "2.) 5 methods\n",
    "\n",
    "    a.) all-in\n",
    "    \n",
    "    b.) backward\n",
    "    \n",
    "    c.) forward\n",
    "    \n",
    "    d.) bidirectional - stepwise\n",
    "    \n",
    "    e.) score comparison"
   ]
  },
  {
   "cell_type": "markdown",
   "metadata": {},
   "source": [
    "1.) **all in method**\n",
    "\n",
    "Use if you have prior knowledge of the variables - domain knowledge or you have done this before\n",
    "\n",
    "You could also use if you have to use something in the model because of a mandate\n",
    "\n",
    "also use if you are preparing for backward elimination\n"
   ]
  },
  {
   "cell_type": "markdown",
   "metadata": {},
   "source": [
    "2.) **backward elimination**\n",
    "\n",
    "step 1: select significance level to stay in the model\n",
    "\n",
    "step2: fit the full model with all possible predictors\n",
    "\n",
    "step 3: consider predictor with highest p-value. if p > signif value\n",
    "\n",
    "step 4: remove higher predictor\n",
    "\n",
    "step 5 fit model without this variable - must rebuild with fewer number of variables- then go back to step 3\n",
    "\n",
    "get to a point where variable with highest signif level is < chosen signif level\n",
    "\n"
   ]
  },
  {
   "cell_type": "markdown",
   "metadata": {},
   "source": [
    "3.) **forward selection**\n",
    "\n",
    "step 1: select signif level for the model\n",
    "\n",
    "step 2: fit all possible regression models - select one with the lowest p-value for independent variables\n",
    "\n",
    "step 3: keep this variable and fit all possible models with extra predictos added to the one(s) already have\n",
    "\n",
    "step 4: consider the predictor withthe lowest p-value. if p< sl go the step 3 otherwise, go to FIN - keep doing this by going through all possible over time and only stop until variable added is higher than signif level - always keep the previous model\n"
   ]
  },
  {
   "cell_type": "markdown",
   "metadata": {},
   "source": [
    "4.) **bidirectional elimination**\n",
    "\n",
    "step 1: select a significance level\n",
    "\n",
    "step 2: perform the next step of forward selection ( new variables must have p < SL to enter)\n",
    "\n",
    "step 3: perform all steps of backward elimination ( old variables must have P < SLSTAY to stay)\n",
    "\n",
    "step 4: no new variables can enter and no old variables can exit\n",
    "\n",
    "FIN : your model is ready"
   ]
  },
  {
   "cell_type": "markdown",
   "metadata": {},
   "source": [
    "5.) **all possible models**\n",
    "\n",
    "step 1: select a ctirterion of goodness of fit (e.g. Akaike criterion)\n",
    "\n",
    "step 2: construct all possible regresison models: 2^n-1 total combinations\n",
    "\n",
    "step 3: select the one with the best criterion\n",
    "\n",
    "FIN: your model is ready - 10 columns alot of models\n",
    "\n",
    "** Our view**: we will look at backward because it is the fastest process"
   ]
  },
  {
   "cell_type": "markdown",
   "metadata": {},
   "source": [
    "### Part 2 - Section 5 - multiple linear regression - lecture 39 - Multiple linear regression in Python - Step 1"
   ]
  },
  {
   "cell_type": "code",
   "execution_count": 41,
   "metadata": {
    "collapsed": true
   },
   "outputs": [],
   "source": [
    "# multiple linear regression\n",
    "\n",
    "# step 1: prepare the dataset:\n",
    "\n",
    "import pandas as pd\n",
    "import numpy as np\n",
    "import matplotlib.pyplot as plt\n",
    "\n",
    "dataset = pd.read_csv(\"Machine Learning A-Z\\Part 2 - Regression\\Section 5 - Multiple Linear Regression\\\\50_Startups.csv\")\n"
   ]
  },
  {
   "cell_type": "code",
   "execution_count": 42,
   "metadata": {},
   "outputs": [
    {
     "data": {
      "text/html": [
       "<div>\n",
       "<style>\n",
       "    .dataframe thead tr:only-child th {\n",
       "        text-align: right;\n",
       "    }\n",
       "\n",
       "    .dataframe thead th {\n",
       "        text-align: left;\n",
       "    }\n",
       "\n",
       "    .dataframe tbody tr th {\n",
       "        vertical-align: top;\n",
       "    }\n",
       "</style>\n",
       "<table border=\"1\" class=\"dataframe\">\n",
       "  <thead>\n",
       "    <tr style=\"text-align: right;\">\n",
       "      <th></th>\n",
       "      <th>R&amp;D Spend</th>\n",
       "      <th>Administration</th>\n",
       "      <th>Marketing Spend</th>\n",
       "      <th>State</th>\n",
       "      <th>Profit</th>\n",
       "    </tr>\n",
       "  </thead>\n",
       "  <tbody>\n",
       "    <tr>\n",
       "      <th>0</th>\n",
       "      <td>165349.20</td>\n",
       "      <td>136897.80</td>\n",
       "      <td>471784.10</td>\n",
       "      <td>New York</td>\n",
       "      <td>192261.83</td>\n",
       "    </tr>\n",
       "    <tr>\n",
       "      <th>1</th>\n",
       "      <td>162597.70</td>\n",
       "      <td>151377.59</td>\n",
       "      <td>443898.53</td>\n",
       "      <td>California</td>\n",
       "      <td>191792.06</td>\n",
       "    </tr>\n",
       "    <tr>\n",
       "      <th>2</th>\n",
       "      <td>153441.51</td>\n",
       "      <td>101145.55</td>\n",
       "      <td>407934.54</td>\n",
       "      <td>Florida</td>\n",
       "      <td>191050.39</td>\n",
       "    </tr>\n",
       "    <tr>\n",
       "      <th>3</th>\n",
       "      <td>144372.41</td>\n",
       "      <td>118671.85</td>\n",
       "      <td>383199.62</td>\n",
       "      <td>New York</td>\n",
       "      <td>182901.99</td>\n",
       "    </tr>\n",
       "    <tr>\n",
       "      <th>4</th>\n",
       "      <td>142107.34</td>\n",
       "      <td>91391.77</td>\n",
       "      <td>366168.42</td>\n",
       "      <td>Florida</td>\n",
       "      <td>166187.94</td>\n",
       "    </tr>\n",
       "  </tbody>\n",
       "</table>\n",
       "</div>"
      ],
      "text/plain": [
       "   R&D Spend  Administration  Marketing Spend       State     Profit\n",
       "0  165349.20       136897.80        471784.10    New York  192261.83\n",
       "1  162597.70       151377.59        443898.53  California  191792.06\n",
       "2  153441.51       101145.55        407934.54     Florida  191050.39\n",
       "3  144372.41       118671.85        383199.62    New York  182901.99\n",
       "4  142107.34        91391.77        366168.42     Florida  166187.94"
      ]
     },
     "execution_count": 42,
     "metadata": {},
     "output_type": "execute_result"
    }
   ],
   "source": [
    "# explore the dataset:\n",
    "\n",
    "dataset.head()"
   ]
  },
  {
   "cell_type": "code",
   "execution_count": 43,
   "metadata": {
    "collapsed": true
   },
   "outputs": [],
   "source": [
    "# 50 observations in the dataset; want to see if there are any linear dependencies in the dataset\n",
    "\n",
    "# profit = dependent variable\n",
    "\n",
    "# create x and Y matrices:\n",
    "\n",
    "X = dataset.iloc[:, :-1].values\n",
    "y = dataset.iloc[:,4].values"
   ]
  },
  {
   "cell_type": "code",
   "execution_count": 44,
   "metadata": {},
   "outputs": [
    {
     "data": {
      "text/plain": [
       "array(['California', 'Florida', 'New York'], dtype=object)"
      ]
     },
     "execution_count": 44,
     "metadata": {},
     "output_type": "execute_result"
    }
   ],
   "source": [
    "X[1:10,:]\n",
    "\n",
    "np.unique(X[:,3])"
   ]
  },
  {
   "cell_type": "code",
   "execution_count": 45,
   "metadata": {
    "collapsed": true
   },
   "outputs": [],
   "source": [
    "# now, we realize that there is a categorical variable in the dataset and we must encode that variable:\n",
    "\n",
    "from sklearn.preprocessing import LabelEncoder, OneHotEncoder\n",
    "\n",
    "labelencoder_X = LabelEncoder()\n",
    "X[:,3] = labelencoder_X.fit_transform(X[:,3]) # use hte label encoderto change text to numbers - cant use directly on original values\n",
    "onehotencoder = OneHotEncoder(categorical_features = [3])\n",
    "X = onehotencoder.fit_transform(X).toarray()\n",
    "\n"
   ]
  },
  {
   "cell_type": "code",
   "execution_count": 46,
   "metadata": {},
   "outputs": [
    {
     "name": "stdout",
     "output_type": "stream",
     "text": [
      "[  1.00000000e+00   0.00000000e+00   0.00000000e+00   1.62597700e+05\n",
      "   1.51377590e+05   4.43898530e+05]\n",
      "(50, 6)\n"
     ]
    }
   ],
   "source": [
    "# look at what we have now:\n",
    "\n",
    "print(X[1,:])\n",
    "\n",
    "print(X.shape)"
   ]
  },
  {
   "cell_type": "code",
   "execution_count": 47,
   "metadata": {
    "collapsed": true
   },
   "outputs": [],
   "source": [
    "# avoiding hte dummy variable trap\n",
    "\n",
    "X = X[:,1:] #remove the first column from x"
   ]
  },
  {
   "cell_type": "code",
   "execution_count": 48,
   "metadata": {},
   "outputs": [
    {
     "name": "stdout",
     "output_type": "stream",
     "text": [
      "[      0.         0.    162597.7   151377.59  443898.53]\n",
      "(50, 5)\n"
     ]
    }
   ],
   "source": [
    "print(X[1,:])\n",
    "\n",
    "print(X.shape)"
   ]
  },
  {
   "cell_type": "code",
   "execution_count": 49,
   "metadata": {
    "collapsed": true
   },
   "outputs": [],
   "source": [
    "# took away that value (California) - it is now the reference value"
   ]
  },
  {
   "cell_type": "code",
   "execution_count": 50,
   "metadata": {
    "collapsed": true
   },
   "outputs": [],
   "source": [
    "# train/test split:\n",
    "\n",
    "from sklearn.cross_validation import train_test_split\n",
    "X_train, X_test, y_train, y_test = train_test_split(X, y, test_size = 0.2, random_state = 0)"
   ]
  },
  {
   "cell_type": "code",
   "execution_count": 51,
   "metadata": {
    "collapsed": true
   },
   "outputs": [],
   "source": [
    "# now we are ready, because we do not need to import feature scaling for this process"
   ]
  },
  {
   "cell_type": "markdown",
   "metadata": {},
   "source": [
    "### Part 2 - Section 5 - multiple linear regression - lecture 40 - Multiple linear regression in Python - Step 2"
   ]
  },
  {
   "cell_type": "code",
   "execution_count": 52,
   "metadata": {
    "collapsed": true
   },
   "outputs": [],
   "source": [
    "# now we are ready to run the regression model:\n",
    "\n",
    "from sklearn.linear_model import LinearRegression"
   ]
  },
  {
   "cell_type": "code",
   "execution_count": 53,
   "metadata": {},
   "outputs": [
    {
     "data": {
      "text/plain": [
       "LinearRegression(copy_X=True, fit_intercept=True, n_jobs=1, normalize=False)"
      ]
     },
     "execution_count": 53,
     "metadata": {},
     "output_type": "execute_result"
    }
   ],
   "source": [
    "# load the regressor:\n",
    "\n",
    "regressor = LinearRegression() # create linear regressor object and the napply the regressor to the training set\n",
    "\n",
    "regressor.fit(X_train, y_train) "
   ]
  },
  {
   "cell_type": "markdown",
   "metadata": {
    "collapsed": true
   },
   "source": [
    "### Part 2 - Section 5 - multiple linear regression - lecture 41 - Multiple linear regression in Python - Step 3"
   ]
  },
  {
   "cell_type": "code",
   "execution_count": 54,
   "metadata": {
    "collapsed": true
   },
   "outputs": [],
   "source": [
    "# predicting the test results:\n",
    "\n",
    "y_pred = regressor.predict(X_test)"
   ]
  },
  {
   "cell_type": "code",
   "execution_count": 55,
   "metadata": {},
   "outputs": [
    {
     "data": {
      "text/plain": [
       "array([ 132582.27760815,  132447.73845175,   71976.09851258,\n",
       "        178537.48221056])"
      ]
     },
     "execution_count": 55,
     "metadata": {},
     "output_type": "execute_result"
    }
   ],
   "source": [
    "y_pred[1:5]"
   ]
  },
  {
   "cell_type": "code",
   "execution_count": 56,
   "metadata": {},
   "outputs": [
    {
     "name": "stdout",
     "output_type": "stream",
     "text": [
      "[ 103282.38  144259.4   146121.95   77798.83  191050.39  105008.31\n",
      "   81229.06   97483.56  110352.25  166187.94]\n",
      "[ 103015.20159796  132582.27760815  132447.73845175   71976.09851258\n",
      "  178537.48221056  116161.24230166   67851.69209676   98791.73374687\n",
      "  113969.43533013  167921.06569551]\n"
     ]
    }
   ],
   "source": [
    "# now we can compare the profits predicted in the model:\n",
    "\n",
    "print(y_test)\n",
    "print(y_pred)"
   ]
  },
  {
   "cell_type": "markdown",
   "metadata": {
    "collapsed": true
   },
   "source": [
    "### Part 2 - Section 5 - multiple linear regression - lecture 42 - Multiple linear regression in Python - Backward elimination - preparation"
   ]
  },
  {
   "cell_type": "code",
   "execution_count": 57,
   "metadata": {
    "collapsed": true
   },
   "outputs": [],
   "source": [
    "# when we built the original model, we built it with all of the variables, but what if some are not statistically significant?\n",
    "# want to find the optimal set of independent variables\n",
    "\n",
    "# use the stats models library:\n",
    "\n",
    "import statsmodels.formula.api as sm\n",
    "\n",
    "# remember the regression equation\n",
    "\n",
    "# stats models library doesn't take into account B0 constant - need to add a column of 1s to our matrix of features:\n",
    "\n",
    "X = np.append(arr = np.ones((50,1)).astype(int), values = X , axis = 1) # invert this so that the first column is the column of ones\n",
    "\n",
    "\n"
   ]
  },
  {
   "cell_type": "code",
   "execution_count": 58,
   "metadata": {},
   "outputs": [
    {
     "data": {
      "text/plain": [
       "array([[  1.00000000e+00,   0.00000000e+00,   1.00000000e+00,\n",
       "          1.65349200e+05,   1.36897800e+05,   4.71784100e+05],\n",
       "       [  1.00000000e+00,   0.00000000e+00,   0.00000000e+00,\n",
       "          1.62597700e+05,   1.51377590e+05,   4.43898530e+05],\n",
       "       [  1.00000000e+00,   1.00000000e+00,   0.00000000e+00,\n",
       "          1.53441510e+05,   1.01145550e+05,   4.07934540e+05],\n",
       "       [  1.00000000e+00,   0.00000000e+00,   1.00000000e+00,\n",
       "          1.44372410e+05,   1.18671850e+05,   3.83199620e+05],\n",
       "       [  1.00000000e+00,   1.00000000e+00,   0.00000000e+00,\n",
       "          1.42107340e+05,   9.13917700e+04,   3.66168420e+05]])"
      ]
     },
     "execution_count": 58,
     "metadata": {},
     "output_type": "execute_result"
    }
   ],
   "source": [
    "X[0:5,:] # now we have a column of 1s"
   ]
  },
  {
   "cell_type": "code",
   "execution_count": 59,
   "metadata": {
    "collapsed": true
   },
   "outputs": [],
   "source": [
    "# now we can start backward elimination:"
   ]
  },
  {
   "cell_type": "markdown",
   "metadata": {},
   "source": [
    "### Part 2 - Section 5 - multiple linear regression - lecture 43 - Multiple linear regression in Python - Backward elimination - Homework"
   ]
  },
  {
   "cell_type": "code",
   "execution_count": 60,
   "metadata": {
    "collapsed": true
   },
   "outputs": [],
   "source": [
    "# previously , added the column of 1s to the stats models dataset that we had created.  Now, we will do backward elimination:\n",
    "\n",
    "# will create optimal matrix of features with just hte high impact se t of features, must first initialize:\n",
    "X_opt = X[:, [1, 2, 3, 4, 5]] # write the indexes directly, because we will eliminate them - contains all variables\n",
    "\n",
    "# step1: select significance level = 0.05 is what we select\n",
    "\n",
    "# step2: fit the full model with all possible predictors:\n",
    "\n",
    "# use the OLS class:\n",
    "\n",
    "regressor_OLS = sm.OLS(endog = y, exog = X_opt).fit()"
   ]
  },
  {
   "cell_type": "code",
   "execution_count": 61,
   "metadata": {},
   "outputs": [
    {
     "data": {
      "text/html": [
       "<table class=\"simpletable\">\n",
       "<caption>OLS Regression Results</caption>\n",
       "<tr>\n",
       "  <th>Dep. Variable:</th>            <td>y</td>        <th>  R-squared:         </th> <td>   0.988</td>\n",
       "</tr>\n",
       "<tr>\n",
       "  <th>Model:</th>                   <td>OLS</td>       <th>  Adj. R-squared:    </th> <td>   0.986</td>\n",
       "</tr>\n",
       "<tr>\n",
       "  <th>Method:</th>             <td>Least Squares</td>  <th>  F-statistic:       </th> <td>   727.1</td>\n",
       "</tr>\n",
       "<tr>\n",
       "  <th>Date:</th>             <td>Sat, 16 Jun 2018</td> <th>  Prob (F-statistic):</th> <td>7.87e-42</td>\n",
       "</tr>\n",
       "<tr>\n",
       "  <th>Time:</th>                 <td>08:11:26</td>     <th>  Log-Likelihood:    </th> <td> -545.15</td>\n",
       "</tr>\n",
       "<tr>\n",
       "  <th>No. Observations:</th>      <td>    50</td>      <th>  AIC:               </th> <td>   1100.</td>\n",
       "</tr>\n",
       "<tr>\n",
       "  <th>Df Residuals:</th>          <td>    45</td>      <th>  BIC:               </th> <td>   1110.</td>\n",
       "</tr>\n",
       "<tr>\n",
       "  <th>Df Model:</th>              <td>     5</td>      <th>                     </th>     <td> </td>   \n",
       "</tr>\n",
       "<tr>\n",
       "  <th>Covariance Type:</th>      <td>nonrobust</td>    <th>                     </th>     <td> </td>   \n",
       "</tr>\n",
       "</table>\n",
       "<table class=\"simpletable\">\n",
       "<tr>\n",
       "   <td></td>     <th>coef</th>     <th>std err</th>      <th>t</th>      <th>P>|t|</th>  <th>[0.025</th>    <th>0.975]</th>  \n",
       "</tr>\n",
       "<tr>\n",
       "  <th>x1</th> <td> 3464.4536</td> <td> 4905.406</td> <td>    0.706</td> <td> 0.484</td> <td>-6415.541</td> <td> 1.33e+04</td>\n",
       "</tr>\n",
       "<tr>\n",
       "  <th>x2</th> <td> 5067.8937</td> <td> 4668.238</td> <td>    1.086</td> <td> 0.283</td> <td>-4334.419</td> <td> 1.45e+04</td>\n",
       "</tr>\n",
       "<tr>\n",
       "  <th>x3</th> <td>    0.7182</td> <td>    0.066</td> <td>   10.916</td> <td> 0.000</td> <td>    0.586</td> <td>    0.851</td>\n",
       "</tr>\n",
       "<tr>\n",
       "  <th>x4</th> <td>    0.3113</td> <td>    0.035</td> <td>    8.885</td> <td> 0.000</td> <td>    0.241</td> <td>    0.382</td>\n",
       "</tr>\n",
       "<tr>\n",
       "  <th>x5</th> <td>    0.0786</td> <td>    0.023</td> <td>    3.429</td> <td> 0.001</td> <td>    0.032</td> <td>    0.125</td>\n",
       "</tr>\n",
       "</table>\n",
       "<table class=\"simpletable\">\n",
       "<tr>\n",
       "  <th>Omnibus:</th>       <td> 1.355</td> <th>  Durbin-Watson:     </th> <td>   1.288</td>\n",
       "</tr>\n",
       "<tr>\n",
       "  <th>Prob(Omnibus):</th> <td> 0.508</td> <th>  Jarque-Bera (JB):  </th> <td>   1.241</td>\n",
       "</tr>\n",
       "<tr>\n",
       "  <th>Skew:</th>          <td>-0.237</td> <th>  Prob(JB):          </th> <td>   0.538</td>\n",
       "</tr>\n",
       "<tr>\n",
       "  <th>Kurtosis:</th>      <td> 2.391</td> <th>  Cond. No.          </th> <td>8.28e+05</td>\n",
       "</tr>\n",
       "</table>"
      ],
      "text/plain": [
       "<class 'statsmodels.iolib.summary.Summary'>\n",
       "\"\"\"\n",
       "                            OLS Regression Results                            \n",
       "==============================================================================\n",
       "Dep. Variable:                      y   R-squared:                       0.988\n",
       "Model:                            OLS   Adj. R-squared:                  0.986\n",
       "Method:                 Least Squares   F-statistic:                     727.1\n",
       "Date:                Sat, 16 Jun 2018   Prob (F-statistic):           7.87e-42\n",
       "Time:                        08:11:26   Log-Likelihood:                -545.15\n",
       "No. Observations:                  50   AIC:                             1100.\n",
       "Df Residuals:                      45   BIC:                             1110.\n",
       "Df Model:                           5                                         \n",
       "Covariance Type:            nonrobust                                         \n",
       "==============================================================================\n",
       "                 coef    std err          t      P>|t|      [0.025      0.975]\n",
       "------------------------------------------------------------------------------\n",
       "x1          3464.4536   4905.406      0.706      0.484   -6415.541    1.33e+04\n",
       "x2          5067.8937   4668.238      1.086      0.283   -4334.419    1.45e+04\n",
       "x3             0.7182      0.066     10.916      0.000       0.586       0.851\n",
       "x4             0.3113      0.035      8.885      0.000       0.241       0.382\n",
       "x5             0.0786      0.023      3.429      0.001       0.032       0.125\n",
       "==============================================================================\n",
       "Omnibus:                        1.355   Durbin-Watson:                   1.288\n",
       "Prob(Omnibus):                  0.508   Jarque-Bera (JB):                1.241\n",
       "Skew:                          -0.237   Prob(JB):                        0.538\n",
       "Kurtosis:                       2.391   Cond. No.                     8.28e+05\n",
       "==============================================================================\n",
       "\n",
       "Warnings:\n",
       "[1] Standard Errors assume that the covariance matrix of the errors is correctly specified.\n",
       "[2] The condition number is large, 8.28e+05. This might indicate that there are\n",
       "strong multicollinearity or other numerical problems.\n",
       "\"\"\""
      ]
     },
     "execution_count": 61,
     "metadata": {},
     "output_type": "execute_result"
    }
   ],
   "source": [
    "# now we will update until it becomes the optimal list of features:\n",
    "regressor_OLS.summary()"
   ]
  },
  {
   "cell_type": "code",
   "execution_count": 62,
   "metadata": {},
   "outputs": [
    {
     "data": {
      "text/html": [
       "<table class=\"simpletable\">\n",
       "<caption>OLS Regression Results</caption>\n",
       "<tr>\n",
       "  <th>Dep. Variable:</th>            <td>y</td>        <th>  R-squared:         </th> <td>   0.951</td>\n",
       "</tr>\n",
       "<tr>\n",
       "  <th>Model:</th>                   <td>OLS</td>       <th>  Adj. R-squared:    </th> <td>   0.946</td>\n",
       "</tr>\n",
       "<tr>\n",
       "  <th>Method:</th>             <td>Least Squares</td>  <th>  F-statistic:       </th> <td>   217.2</td>\n",
       "</tr>\n",
       "<tr>\n",
       "  <th>Date:</th>             <td>Sat, 16 Jun 2018</td> <th>  Prob (F-statistic):</th> <td>8.49e-29</td>\n",
       "</tr>\n",
       "<tr>\n",
       "  <th>Time:</th>                 <td>08:11:38</td>     <th>  Log-Likelihood:    </th> <td> -525.38</td>\n",
       "</tr>\n",
       "<tr>\n",
       "  <th>No. Observations:</th>      <td>    50</td>      <th>  AIC:               </th> <td>   1061.</td>\n",
       "</tr>\n",
       "<tr>\n",
       "  <th>Df Residuals:</th>          <td>    45</td>      <th>  BIC:               </th> <td>   1070.</td>\n",
       "</tr>\n",
       "<tr>\n",
       "  <th>Df Model:</th>              <td>     4</td>      <th>                     </th>     <td> </td>   \n",
       "</tr>\n",
       "<tr>\n",
       "  <th>Covariance Type:</th>      <td>nonrobust</td>    <th>                     </th>     <td> </td>   \n",
       "</tr>\n",
       "</table>\n",
       "<table class=\"simpletable\">\n",
       "<tr>\n",
       "    <td></td>       <th>coef</th>     <th>std err</th>      <th>t</th>      <th>P>|t|</th>  <th>[0.025</th>    <th>0.975]</th>  \n",
       "</tr>\n",
       "<tr>\n",
       "  <th>const</th> <td> 5.011e+04</td> <td> 6647.870</td> <td>    7.537</td> <td> 0.000</td> <td> 3.67e+04</td> <td> 6.35e+04</td>\n",
       "</tr>\n",
       "<tr>\n",
       "  <th>x1</th>    <td>  220.1585</td> <td> 2900.536</td> <td>    0.076</td> <td> 0.940</td> <td>-5621.821</td> <td> 6062.138</td>\n",
       "</tr>\n",
       "<tr>\n",
       "  <th>x2</th>    <td>    0.8060</td> <td>    0.046</td> <td>   17.606</td> <td> 0.000</td> <td>    0.714</td> <td>    0.898</td>\n",
       "</tr>\n",
       "<tr>\n",
       "  <th>x3</th>    <td>   -0.0270</td> <td>    0.052</td> <td>   -0.523</td> <td> 0.604</td> <td>   -0.131</td> <td>    0.077</td>\n",
       "</tr>\n",
       "<tr>\n",
       "  <th>x4</th>    <td>    0.0270</td> <td>    0.017</td> <td>    1.592</td> <td> 0.118</td> <td>   -0.007</td> <td>    0.061</td>\n",
       "</tr>\n",
       "</table>\n",
       "<table class=\"simpletable\">\n",
       "<tr>\n",
       "  <th>Omnibus:</th>       <td>14.758</td> <th>  Durbin-Watson:     </th> <td>   1.282</td>\n",
       "</tr>\n",
       "<tr>\n",
       "  <th>Prob(Omnibus):</th> <td> 0.001</td> <th>  Jarque-Bera (JB):  </th> <td>  21.172</td>\n",
       "</tr>\n",
       "<tr>\n",
       "  <th>Skew:</th>          <td>-0.948</td> <th>  Prob(JB):          </th> <td>2.53e-05</td>\n",
       "</tr>\n",
       "<tr>\n",
       "  <th>Kurtosis:</th>      <td> 5.563</td> <th>  Cond. No.          </th> <td>1.40e+06</td>\n",
       "</tr>\n",
       "</table>"
      ],
      "text/plain": [
       "<class 'statsmodels.iolib.summary.Summary'>\n",
       "\"\"\"\n",
       "                            OLS Regression Results                            \n",
       "==============================================================================\n",
       "Dep. Variable:                      y   R-squared:                       0.951\n",
       "Model:                            OLS   Adj. R-squared:                  0.946\n",
       "Method:                 Least Squares   F-statistic:                     217.2\n",
       "Date:                Sat, 16 Jun 2018   Prob (F-statistic):           8.49e-29\n",
       "Time:                        08:11:38   Log-Likelihood:                -525.38\n",
       "No. Observations:                  50   AIC:                             1061.\n",
       "Df Residuals:                      45   BIC:                             1070.\n",
       "Df Model:                           4                                         \n",
       "Covariance Type:            nonrobust                                         \n",
       "==============================================================================\n",
       "                 coef    std err          t      P>|t|      [0.025      0.975]\n",
       "------------------------------------------------------------------------------\n",
       "const       5.011e+04   6647.870      7.537      0.000    3.67e+04    6.35e+04\n",
       "x1           220.1585   2900.536      0.076      0.940   -5621.821    6062.138\n",
       "x2             0.8060      0.046     17.606      0.000       0.714       0.898\n",
       "x3            -0.0270      0.052     -0.523      0.604      -0.131       0.077\n",
       "x4             0.0270      0.017      1.592      0.118      -0.007       0.061\n",
       "==============================================================================\n",
       "Omnibus:                       14.758   Durbin-Watson:                   1.282\n",
       "Prob(Omnibus):                  0.001   Jarque-Bera (JB):               21.172\n",
       "Skew:                          -0.948   Prob(JB):                     2.53e-05\n",
       "Kurtosis:                       5.563   Cond. No.                     1.40e+06\n",
       "==============================================================================\n",
       "\n",
       "Warnings:\n",
       "[1] Standard Errors assume that the covariance matrix of the errors is correctly specified.\n",
       "[2] The condition number is large, 1.4e+06. This might indicate that there are\n",
       "strong multicollinearity or other numerical problems.\n",
       "\"\"\""
      ]
     },
     "execution_count": 62,
     "metadata": {},
     "output_type": "execute_result"
    }
   ],
   "source": [
    "# look at the p-values - lower the value, more significant:\n",
    "\n",
    "# remove the worst predictor: (our results don't match, they remove X2, so let's just remove it):\n",
    "\n",
    "# step 3: ( remove the variables that don't work well)\n",
    "X_opt = X[:, [0, 1, 3, 4, 5]]\n",
    "regressor_OLS = sm.OLS(endog = y, exog = X_opt).fit()\n",
    "regressor_OLS.summary()"
   ]
  },
  {
   "cell_type": "markdown",
   "metadata": {},
   "source": [
    "### Part 2 - Section 5 - multiple linear regression - lecture 44 - Multiple linear regression in Python - Backward elimination - Homework Solution"
   ]
  },
  {
   "cell_type": "code",
   "execution_count": 63,
   "metadata": {},
   "outputs": [
    {
     "name": "stdout",
     "output_type": "stream",
     "text": [
      "                            OLS Regression Results                            \n",
      "==============================================================================\n",
      "Dep. Variable:                      y   R-squared:                       0.950\n",
      "Model:                            OLS   Adj. R-squared:                  0.948\n",
      "Method:                 Least Squares   F-statistic:                     450.8\n",
      "Date:                Sat, 16 Jun 2018   Prob (F-statistic):           2.16e-31\n",
      "Time:                        08:11:43   Log-Likelihood:                -525.54\n",
      "No. Observations:                  50   AIC:                             1057.\n",
      "Df Residuals:                      47   BIC:                             1063.\n",
      "Df Model:                           2                                         \n",
      "Covariance Type:            nonrobust                                         \n",
      "==============================================================================\n",
      "                 coef    std err          t      P>|t|      [0.025      0.975]\n",
      "------------------------------------------------------------------------------\n",
      "const       4.698e+04   2689.933     17.464      0.000    4.16e+04    5.24e+04\n",
      "x1             0.7966      0.041     19.266      0.000       0.713       0.880\n",
      "x2             0.0299      0.016      1.927      0.060      -0.001       0.061\n",
      "==============================================================================\n",
      "Omnibus:                       14.677   Durbin-Watson:                   1.257\n",
      "Prob(Omnibus):                  0.001   Jarque-Bera (JB):               21.161\n",
      "Skew:                          -0.939   Prob(JB):                     2.54e-05\n",
      "Kurtosis:                       5.575   Cond. No.                     5.32e+05\n",
      "==============================================================================\n",
      "\n",
      "Warnings:\n",
      "[1] Standard Errors assume that the covariance matrix of the errors is correctly specified.\n",
      "[2] The condition number is large, 5.32e+05. This might indicate that there are\n",
      "strong multicollinearity or other numerical problems.\n"
     ]
    }
   ],
   "source": [
    "# summary of the code implemented above: \n",
    "\n",
    "import statsmodels.formula.api as sm\n",
    "def backwardElimination(x, sl):\n",
    "    numVars = len(x[0])\n",
    "    for i in range(0, numVars):\n",
    "        regressor_OLS = sm.OLS(y, x).fit()\n",
    "        maxVar = max(regressor_OLS.pvalues).astype(float)\n",
    "        if maxVar > sl:\n",
    "            for j in range(0, numVars - i):\n",
    "                if (regressor_OLS.pvalues[j].astype(float) == maxVar):\n",
    "                    x = np.delete(x, j, 1)\n",
    "    regressor_OLS.summary()\n",
    "    return x\n",
    " \n",
    "SL = 0.05\n",
    "X_opt = X[:, [0, 1, 2, 3, 4, 5]]\n",
    "X_Modeled = backwardElimination(X_opt, SL)\n",
    "\n",
    "# second example with p-values and adjusted R-squared:\n",
    "\n",
    "import statsmodels.formula.api as sm\n",
    "def backwardElimination(x, SL):\n",
    "    numVars = len(x[0])\n",
    "    temp = np.zeros((50,6)).astype(int)\n",
    "    for i in range(0, numVars):\n",
    "        regressor_OLS = sm.OLS(y, x).fit()\n",
    "        maxVar = max(regressor_OLS.pvalues).astype(float)\n",
    "        adjR_before = regressor_OLS.rsquared_adj.astype(float)\n",
    "        if maxVar > SL:\n",
    "            for j in range(0, numVars - i):\n",
    "                if (regressor_OLS.pvalues[j].astype(float) == maxVar):\n",
    "                    temp[:,j] = x[:, j]\n",
    "                    x = np.delete(x, j, 1)\n",
    "                    tmp_regressor = sm.OLS(y, x).fit()\n",
    "                    adjR_after = tmp_regressor.rsquared_adj.astype(float)\n",
    "                    if (adjR_before >= adjR_after):\n",
    "                        x_rollback = np.hstack((x, temp[:,[0,j]]))\n",
    "                        x_rollback = np.delete(x_rollback, j, 1)\n",
    "                        print (regressor_OLS.summary())\n",
    "                        return x_rollback\n",
    "                    else:\n",
    "                        continue\n",
    "    regressor_OLS.summary()\n",
    "    return x\n",
    " \n",
    "SL = 0.05\n",
    "X_opt = X[:, [0, 1, 2, 3, 4, 5]]\n",
    "X_Modeled = backwardElimination(X_opt, SL)\n",
    "\n"
   ]
  },
  {
   "cell_type": "markdown",
   "metadata": {},
   "source": [
    "### Part 2 - Section 5 - multiple linear regression - lecture 46 - Multiple linear regression in R - Step 1"
   ]
  },
  {
   "cell_type": "code",
   "execution_count": 55,
   "metadata": {
    "collapsed": true
   },
   "outputs": [],
   "source": [
    "# all code in R from this point forward will be in R-studio files in this same project directory###"
   ]
  },
  {
   "cell_type": "markdown",
   "metadata": {
    "collapsed": true
   },
   "source": [
    "### Part 2 - Section 6 - Polynomial regression - lecture 53- Polynomial Regression intuition"
   ]
  },
  {
   "cell_type": "code",
   "execution_count": 1,
   "metadata": {
    "collapsed": true
   },
   "outputs": [],
   "source": [
    "# we know that simple linear regression is : y = b0+b1x1\n",
    "\n",
    "# however, polynomial has the same x variable to different powers: y = b0 + b1x1 + b2x1^2...\n",
    "\n",
    "# useful when you have a set of variables that have a curved regression line - can have different parabolic effects for each shift in the curve\n",
    "\n",
    "# useful for describing how epidemics spread throughout a population, but not necesarily the only use case or always the case\n",
    "\n",
    "# polynomial linear regression - why still linear? this is the class of hte regression, the coefficients that we are talking about\n",
    "# can the function be expressed as a linear combination of the variable being used to explain the relationship"
   ]
  },
  {
   "cell_type": "markdown",
   "metadata": {},
   "source": [
    "### Part 2 - Section 6 - Polynomial regression - lecture 54- Polynomial Regression in Python - Step 1"
   ]
  },
  {
   "cell_type": "code",
   "execution_count": 1,
   "metadata": {
    "collapsed": true
   },
   "outputs": [],
   "source": [
    "# polynomial regression\n",
    "\n",
    "# transitioning from what we did before into the plynomial group\n",
    "\n",
    "import pandas as pd\n",
    "import numpy as np\n",
    "import matplotlib.pyplot as plt\n",
    "\n",
    "dataset = pd.read_csv(\"Machine Learning A-Z\\Part 2 - Regression\\Section 6 - Polynomial Regression\\Position_Salaries.csv\")\n",
    "\n"
   ]
  },
  {
   "cell_type": "code",
   "execution_count": 2,
   "metadata": {
    "collapsed": true
   },
   "outputs": [],
   "source": [
    "# create the x and y variables:\n",
    "\n",
    "    # going to negotiate the salary of the employee and need to look at the y-variable:\n",
    "X = dataset.iloc[:,1:2].values # upper range excluded in python, need the :2 in order to make it a matrix\n",
    "y = dataset.iloc[:,2].values # still want y to be a vector\n",
    "\n",
    "\n"
   ]
  },
  {
   "cell_type": "code",
   "execution_count": 3,
   "metadata": {
    "collapsed": true
   },
   "outputs": [],
   "source": [
    "# split into training and test set: Actually will not want to do this, because we have such a small number of observations\n",
    "# simply not enough information and want an accurate prediction to model this information for our purposes"
   ]
  },
  {
   "cell_type": "code",
   "execution_count": 4,
   "metadata": {
    "collapsed": true
   },
   "outputs": [],
   "source": [
    "# using the same linear regression library for this task - no need to scale the data either"
   ]
  },
  {
   "cell_type": "markdown",
   "metadata": {},
   "source": [
    "### Part 2 - Section 6 - Polynomial regression - lecture 55- Polynomial Regression in Python - Step 2"
   ]
  },
  {
   "cell_type": "code",
   "execution_count": 5,
   "metadata": {},
   "outputs": [
    {
     "data": {
      "text/plain": [
       "LinearRegression(copy_X=True, fit_intercept=True, n_jobs=1, normalize=False)"
      ]
     },
     "execution_count": 5,
     "metadata": {},
     "output_type": "execute_result"
    }
   ],
   "source": [
    "# we will make a linear regression model first so that we can compare the 2 models side by side:\n",
    "\n",
    "# linear regression:\n",
    "\n",
    "from sklearn.linear_model import LinearRegression\n",
    "\n",
    "lin_reg = LinearRegression()\n",
    "\n",
    "lin_reg.fit(X, y)\n"
   ]
  },
  {
   "cell_type": "code",
   "execution_count": 6,
   "metadata": {
    "collapsed": true
   },
   "outputs": [],
   "source": [
    "# Polynomial regression:\n",
    "\n",
    "from sklearn.preprocessing import PolynomialFeatures # will transform matrix of features (X) into X1^2, X1^3, etc. How ever many we want\n",
    "\n",
    "poly_reg = PolynomialFeatures(2) # command + i for features; interested in first argument = degree\n",
    "\n",
    "X_poly = poly_reg.fit_transform(X)"
   ]
  },
  {
   "cell_type": "code",
   "execution_count": 7,
   "metadata": {},
   "outputs": [
    {
     "name": "stdout",
     "output_type": "stream",
     "text": [
      "[[   1.    1.    1.]\n",
      " [   1.    2.    4.]\n",
      " [   1.    3.    9.]\n",
      " [   1.    4.   16.]\n",
      " [   1.    5.   25.]\n",
      " [   1.    6.   36.]\n",
      " [   1.    7.   49.]\n",
      " [   1.    8.   64.]\n",
      " [   1.    9.   81.]\n",
      " [   1.   10.  100.]]\n"
     ]
    }
   ],
   "source": [
    "print(X_poly)"
   ]
  },
  {
   "cell_type": "code",
   "execution_count": 8,
   "metadata": {},
   "outputs": [
    {
     "data": {
      "text/plain": [
       "LinearRegression(copy_X=True, fit_intercept=True, n_jobs=1, normalize=False)"
      ]
     },
     "execution_count": 8,
     "metadata": {},
     "output_type": "execute_result"
    }
   ],
   "source": [
    "# adds column of 1s to give the constant value for the regression module\n",
    "\n",
    "# now, we need to include the fit into a new regression object:\n",
    "\n",
    "lin_reg_2 = LinearRegression()\n",
    "\n",
    "lin_reg_2.fit(X_poly, y)\n",
    "\n",
    "# now, we can compare the 2 outcomes of the different models to determine which one has the best fit\n"
   ]
  },
  {
   "cell_type": "markdown",
   "metadata": {},
   "source": [
    "### Part 2 - Section 6 - Polynomial regression - lecture 56- Polynomial Regression in Python - Step 3"
   ]
  },
  {
   "cell_type": "code",
   "execution_count": 9,
   "metadata": {},
   "outputs": [
    {
     "data": {
      "image/png": "[encoded data removed]",
      "text/plain": [
       "<matplotlib.figure.Figure at 0x19436def0f0>"
      ]
     },
     "metadata": {},
     "output_type": "display_data"
    }
   ],
   "source": [
    "# visualize the linear regression:\n",
    "\n",
    "plt.scatter(X, y, color = 'red')\n",
    "plt.plot(X, lin_reg.predict(X), color = 'blue')\n",
    "plt.title('truth or bluff (Linear Regression)')\n",
    "plt.xlabel('Position Level')\n",
    "plt.ylabel('Salary')\n",
    "plt.show()\n"
   ]
  },
  {
   "cell_type": "code",
   "execution_count": 10,
   "metadata": {},
   "outputs": [
    {
     "data": {
      "image/png": "[encoded data removed]",
      "text/plain": [
       "<matplotlib.figure.Figure at 0x19436def048>"
      ]
     },
     "metadata": {},
     "output_type": "display_data"
    }
   ],
   "source": [
    "plt.scatter(X, y, color = 'red')\n",
    "plt.plot(X, lin_reg_2.predict(X_poly), color = 'blue')\n",
    "plt.title('truth or bluff (Polynomial Regression)')\n",
    "plt.xlabel('Position level')\n",
    "plt.ylabel('Salary')\n",
    "plt.show()\n"
   ]
  },
  {
   "cell_type": "code",
   "execution_count": 11,
   "metadata": {},
   "outputs": [
    {
     "data": {
      "image/png": "[encoded data removed]",
      "text/plain": [
       "<matplotlib.figure.Figure at 0x19436b248d0>"
      ]
     },
     "metadata": {},
     "output_type": "display_data"
    }
   ],
   "source": [
    "# now, we can do better by adding a 3rd degree to the polynomial for training\n",
    "\n",
    "poly_reg_2 = PolynomialFeatures(degree = 3) # command + i for features; interested in first argument = degree\n",
    "\n",
    "X_poly_2 = poly_reg_2.fit_transform(X)\n",
    "\n",
    "lin_reg_3 = LinearRegression()\n",
    "\n",
    "lin_reg_3.fit(X_poly_2, y)\n",
    "\n",
    "plt.scatter(X, y, color = 'red')\n",
    "plt.plot(X, lin_reg_3.predict(X_poly_2), color = 'blue')\n",
    "plt.title('truth or bluff (Polynomial Regression - 3rd term)')\n",
    "plt.xlabel('Position level')\n",
    "plt.ylabel('Salary')\n",
    "plt.show()\n",
    "\n",
    "\n",
    "\n",
    "\n"
   ]
  },
  {
   "cell_type": "code",
   "execution_count": 12,
   "metadata": {},
   "outputs": [
    {
     "data": {
      "image/png": "[encoded data removed]",
      "text/plain": [
       "<matplotlib.figure.Figure at 0x19436ebc550>"
      ]
     },
     "metadata": {},
     "output_type": "display_data"
    }
   ],
   "source": [
    "# now, at the risk of overfitting, let's add a 4th degree:\n",
    "\n",
    "\n",
    "poly_reg_2 = PolynomialFeatures(degree = 4) # command + i for features; interested in first argument = degree\n",
    "\n",
    "X_poly_2 = poly_reg_2.fit_transform(X)\n",
    "\n",
    "lin_reg_3 = LinearRegression()\n",
    "\n",
    "lin_reg_3.fit(X_poly_2, y)\n",
    "\n",
    "plt.scatter(X, y, color = 'red')\n",
    "plt.plot(X, lin_reg_3.predict(X_poly_2), color = 'blue')\n",
    "plt.title('truth or bluff (Polynomial Regression - 4th term)')\n",
    "plt.xlabel('Position level')\n",
    "plt.ylabel('Salary')\n",
    "plt.show()"
   ]
  },
  {
   "cell_type": "code",
   "execution_count": 13,
   "metadata": {},
   "outputs": [
    {
     "data": {
      "image/png": "[encoded data removed]",
      "text/plain": [
       "<matplotlib.figure.Figure at 0x19436eefeb8>"
      ]
     },
     "metadata": {},
     "output_type": "display_data"
    }
   ],
   "source": [
    "# we can actually make this into a fully continuous plot in order to predict better with an X-grid, it will give more resulution:\n",
    "\n",
    "X_grid = np.arange(min(X), max(X), 0.1)\n",
    "X_grid = X_grid.reshape((len(X_grid), 1))\n",
    "\n",
    "# now replot:\n",
    "\n",
    "plt.scatter(X, y, color = 'red')\n",
    "plt.plot(X_grid, lin_reg_3.predict(poly_reg_2.fit_transform(X_grid)), color = 'blue')\n",
    "plt.title('truth or bluff (Polynomial Regression - 4th term, continuous)')\n",
    "plt.xlabel('Position level')\n",
    "plt.ylabel('Salary')\n",
    "plt.show()\n",
    "\n"
   ]
  },
  {
   "cell_type": "markdown",
   "metadata": {},
   "source": [
    "### Part 2 - Section 6 - Polynomial regression - lecture 58- Polynomial Regression in Python - Step 4"
   ]
  },
  {
   "cell_type": "code",
   "execution_count": 15,
   "metadata": {},
   "outputs": [
    {
     "name": "stdout",
     "output_type": "stream",
     "text": [
      "[ 330378.78787879]\n",
      "[ 158862.45265153]\n"
     ]
    }
   ],
   "source": [
    "# final step, truth or bluff, by predicting the previous salary for this employee to determine whether they are bluffing:\n",
    "\n",
    "print(lin_reg.predict(6.5)) # the linear regression predicts: $330,378.79\n",
    "\n",
    "\n",
    "print(lin_reg_3.predict(poly_reg_2.fit_transform(6.5))) # now, predict $158,863.45\n",
    "\n",
    "# we get a much better prediction than what we had with the previous simple linear regression through the data"
   ]
  },
  {
   "cell_type": "markdown",
   "metadata": {
    "collapsed": true
   },
   "source": [
    "### Part 2 - Section 6 - Polynomial regression - lecture 59- Polynomial Regression in Python TEMPLATE "
   ]
  },
  {
   "cell_type": "code",
   "execution_count": null,
   "metadata": {
    "collapsed": true
   },
   "outputs": [],
   "source": [
    "# importing the libraries:\n",
    "\n",
    "import pandas as pd\n",
    "import numpy as np\n",
    "import matplotlib.pyplot as plt\n",
    "\n",
    "# read in the data (assuming directory set):\n",
    "\n",
    "dataset = pd.read_csv('Position Salaries.csv')\n",
    "\n",
    "# create the x and y datasets:\n",
    "X = dataset.iloc[:,1:2].values\n",
    "y = dataset.iloc[:,0].values\n",
    "\n",
    "# for this type of regression, no training and test dataset split:\n",
    "\n",
    "X_train, X_test, y_train, y_test = train_test_split(X, y, size = .2, random_state = 0)\n",
    "\n",
    "\n",
    "# feature scaling:\n",
    "\n",
    "#from sklearn.preprocessing import StandardScaler\n",
    "#sc_X = StandardScaler() # instantiate the scaler object\n",
    "#X_train = sc_X.fit_transform(X_train)\n",
    "#X_test = sc_x.transform(X_test)\n",
    "#sc_y = StandardScaler()\n",
    "#y_train = sc_y.fit_transform(y_train)\n",
    "\n",
    "# fitting the polynomial regression model:\n",
    "\n",
    "\n",
    "###from sklearn.preprocessing import PolynomialFeatures\n",
    "###poly_reg = PolynomialFeatures(degree = 4) # change the degreee to your specifications\n",
    "            # dont need this code\n",
    "\n",
    "# predict:\n",
    "y_pred = regressor.predict(6.5)\n",
    "\n",
    "\n",
    "\n",
    "# visualizing the results:\n",
    "plt.scatter(X, y, color = 'red')\n",
    "plt.plot(X, regressor.predict(X), color = 'blue')\n",
    "plt.title('Regression results')\n",
    "plt.xlabel('Position level')\n",
    "plt.ylabel('Salary')\n",
    "plt.show()\n",
    "\n",
    "# visualizing for a more continuous X value set:\n",
    "\n",
    "X_grid = np.arange(min(X), max(X), 0.1) # gives vector, so must make a matrix with reshape:\n",
    "X_grid = X_grid.reshape((len(X_grid), 1))\n",
    "\n",
    "plt.scatter(X_grid, y, color = 'red')\n",
    "plt.plot(X_grid, regressor.predict(X_grid), color = 'Blue')\n",
    "\n",
    "\n",
    "\n"
   ]
  },
  {
   "cell_type": "markdown",
   "metadata": {},
   "source": [
    "# Part 2 - section 7 - Support Vector Regression"
   ]
  },
  {
   "cell_type": "markdown",
   "metadata": {},
   "source": [
    "### Part 2 - Section 7 - lecture 68- SVR intuition"
   ]
  },
  {
   "cell_type": "code",
   "execution_count": 1,
   "metadata": {
    "collapsed": true
   },
   "outputs": [],
   "source": [
    "# type of support vector machine that supports linear and non-linear regression\n",
    "# Performs linear regression in a higher dimensional space\n",
    "# Create a vector that can be used for linear regression - trying to fit as many instances on the street while limting margin violations\n",
    "# limit margins with epsilon\n",
    "# Requirements:\n",
    "    # approzimate the function used to generate the training set\n",
    "# how does it work?\n",
    "    # training set\n",
    "    # choose kernel\n",
    "    # form correlation matrix\n",
    "    # train the machine to get contraction coefficients\n",
    "    # use coefficients to crreate estimator\n",
    "# regularization reduces noice\n",
    "# choose a kernel - Gaussian\n",
    "\n",
    "    "
   ]
  },
  {
   "cell_type": "code",
   "execution_count": 35,
   "metadata": {},
   "outputs": [
    {
     "data": {
      "text/plain": [
       "SVR(C=1.0, cache_size=200, coef0=0.0, degree=3, epsilon=0.1, gamma='auto',\n",
       "  kernel='rbf', max_iter=-1, shrinking=True, tol=0.001, verbose=False)"
      ]
     },
     "execution_count": 35,
     "metadata": {},
     "output_type": "execute_result"
    }
   ],
   "source": [
    "### Part 2 - Section 7 - lecture 69- SVR in Python\n",
    "\n",
    "import numpy as np\n",
    "import matplotlib.pyplot as plt\n",
    "import pandas as pd\n",
    "\n",
    "# read in the dataset:\n",
    "dataset = pd.read_csv(\"Machine Learning A-Z\\Part 2 - Regression\\Section 7 - Support Vector Regression_SVR\\Position_Salaries.csv\")\n",
    "\n",
    "# create the training and test sets:\n",
    "X = (dataset.iloc[:,1].values).reshape(-1,1) # I like this better than the 1:2 approach\n",
    "y = dataset.iloc[:, 2].values\n",
    "    \n",
    "# import the SVR:\n",
    "\n",
    "from sklearn.svm import SVR\n",
    "\n",
    "# instantiate the regressor object:\n",
    "regressor = SVR(kernel = 'rbf')\n",
    "\n",
    "# fit the model:\n",
    "\n",
    "regressor.fit(X, y)"
   ]
  },
  {
   "cell_type": "code",
   "execution_count": 36,
   "metadata": {},
   "outputs": [
    {
     "name": "stdout",
     "output_type": "stream",
     "text": [
      "[ 130001.55760156]\n"
     ]
    }
   ],
   "source": [
    "# now predict the output:\n",
    "\n",
    "y_pred = regressor.predict(6.5)\n",
    "print(y_pred)"
   ]
  },
  {
   "cell_type": "code",
   "execution_count": 37,
   "metadata": {},
   "outputs": [
    {
     "data": {
      "image/png": "[encoded data removed]",
      "text/plain": [
       "<matplotlib.figure.Figure at 0x20095488e48>"
      ]
     },
     "metadata": {},
     "output_type": "display_data"
    }
   ],
   "source": [
    "# this is not good! Let's plot the results:\n",
    "\n",
    "plt.scatter(X, y, color = 'red')\n",
    "plt.plot(X, regressor.predict(X), color = 'blue')\n",
    "plt.title('Truth or Bluff (SVR)')\n",
    "plt.xlabel('Position level')\n",
    "plt.ylabel('Salary')\n",
    "plt.show()\n",
    "\n",
    "# really bad"
   ]
  },
  {
   "cell_type": "code",
   "execution_count": 38,
   "metadata": {
    "collapsed": true
   },
   "outputs": [],
   "source": [
    "# what happened here was that the data wasn't pre-scaled"
   ]
  },
  {
   "cell_type": "code",
   "execution_count": 47,
   "metadata": {},
   "outputs": [],
   "source": [
    "# we need to scale the features of the dateset:\n",
    "\n",
    "from sklearn.preprocessing import StandardScaler\n",
    "sc_X = StandardScaler()\n",
    "sc_y = StandardScaler()\n",
    "\n",
    "X = sc_X.fit_transform(X) \n",
    "y = sc_y.fit_transform(y)\n"
   ]
  },
  {
   "cell_type": "code",
   "execution_count": 58,
   "metadata": {},
   "outputs": [
    {
     "name": "stderr",
     "output_type": "stream",
     "text": [
      "C:\\Users\\alexd\\Anaconda3\\lib\\site-packages\\sklearn\\utils\\validation.py:475: DataConversionWarning: Data with input dtype int64 was converted to float64 by StandardScaler.\n",
      "  warnings.warn(msg, DataConversionWarning)\n"
     ]
    },
    {
     "data": {
      "text/plain": [
       "SVR(C=1.0, cache_size=200, coef0=0.0, degree=3, epsilon=0.1, gamma='auto',\n",
       "  kernel='rbf', max_iter=-1, shrinking=True, tol=0.001, verbose=False)"
      ]
     },
     "execution_count": 58,
     "metadata": {},
     "output_type": "execute_result"
    }
   ],
   "source": [
    "# now try rerunning the model again:\n",
    "\n",
    "import numpy as np\n",
    "import matplotlib.pyplot as plt\n",
    "import pandas as pd\n",
    "\n",
    "# read in the dataset:\n",
    "dataset = pd.read_csv(\"Machine Learning A-Z\\Part 2 - Regression\\Section 7 - Support Vector Regression_SVR\\Position_Salaries.csv\")\n",
    "\n",
    "# create the training and test sets:\n",
    "X = (dataset.iloc[:,1].values).reshape(-1,1) # I like this better than the 1:2 approach\n",
    "y = dataset.iloc[:, 2].values\n",
    "\n",
    "############### NEW CODE ADDED ################\n",
    "\n",
    "from sklearn.preprocessing import StandardScaler\n",
    "sc_X = StandardScaler()\n",
    "sc_y = StandardScaler()\n",
    "\n",
    "X = sc_X.fit_transform(X) \n",
    "y = np.ravel(sc_y.fit_transform(y.reshape(-1,1))) # have to reshape for fit_transform and ravel to change back to dimensions for algo\n",
    "\n",
    "##############################################\n",
    "    \n",
    "# import the SVR:\n",
    "\n",
    "from sklearn.svm import SVR\n",
    "\n",
    "# instantiate the regressor object:\n",
    "regressor = SVR(kernel = 'rbf')\n",
    "\n",
    "# fit the model:\n",
    "\n",
    "regressor.fit(X, y)\n"
   ]
  },
  {
   "cell_type": "code",
   "execution_count": 59,
   "metadata": {},
   "outputs": [
    {
     "data": {
      "image/png": "[encoded data removed]",
      "text/plain": [
       "<matplotlib.figure.Figure at 0x200979c6d68>"
      ]
     },
     "metadata": {},
     "output_type": "display_data"
    }
   ],
   "source": [
    "# let's visualize the results first:\n",
    "\n",
    "plt.scatter(X, y, color = 'red')\n",
    "plt.plot(X, regressor.predict(X), color = 'blue')\n",
    "plt.title('Truth or Bluff (SVR)')\n",
    "plt.xlabel('Position level')\n",
    "plt.ylabel('Salary')\n",
    "plt.show()"
   ]
  },
  {
   "cell_type": "markdown",
   "metadata": {},
   "source": [
    "CEO salary considered by SVR to be an outlier due to the standard fitting paramters for the model; this is ok since we don't care ABOUT THe CEO salary\n"
   ]
  },
  {
   "cell_type": "code",
   "execution_count": 60,
   "metadata": {},
   "outputs": [
    {
     "name": "stdout",
     "output_type": "stream",
     "text": [
      "[ 170370.0204065]\n"
     ]
    }
   ],
   "source": [
    "# now, we want to fit, but need to untransform the data and make things work appropriately\n",
    "\n",
    "y_pred = sc_y.inverse_transform(regressor.predict(sc_X.transform(np.array([[6.5]])))) # notice the the function expects an array; must transform to an array\n",
    "\n",
    "# also need to use the inverse transform to get the original salary\n",
    "\n",
    "print(y_pred)\n",
    "\n"
   ]
  },
  {
   "cell_type": "code",
   "execution_count": null,
   "metadata": {
    "collapsed": true
   },
   "outputs": [],
   "source": []
  }
 ],
 "metadata": {
  "kernelspec": {
   "display_name": "Python 3",
   "language": "python",
   "name": "python3"
  },
  "language_info": {
   "codemirror_mode": {
    "name": "ipython",
    "version": 3
   },
   "file_extension": ".py",
   "mimetype": "text/x-python",
   "name": "python",
   "nbconvert_exporter": "python",
   "pygments_lexer": "ipython3",
   "version": "3.6.3"
  }
 },
 "nbformat": 4,
 "nbformat_minor": 2
}
